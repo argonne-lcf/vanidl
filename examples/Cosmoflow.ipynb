{
 "cells": [
  {
   "cell_type": "markdown",
   "metadata": {},
   "source": [
    "# DLProfile Example using Cosmoflow Benchmark"
   ]
  },
  {
   "cell_type": "markdown",
   "metadata": {},
   "source": [
    "## Set imports and neccessary environment variables"
   ]
  },
  {
   "cell_type": "code",
   "execution_count": 1,
   "metadata": {},
   "outputs": [],
   "source": [
    "import pathlib\n",
    "import os\n",
    "import sys\n",
    "import matplotlib.pyplot as plt\n",
    "import warnings\n",
    "import pprint\n",
    "import pandas"
   ]
  },
  {
   "cell_type": "code",
   "execution_count": 2,
   "metadata": {},
   "outputs": [],
   "source": [
    "VANIDL_DIR=\"{}\".format(pathlib.Path(os.getcwd()).parent.absolute())\n",
    "sys.path.insert(0, VANIDL_DIR)\n",
    "warnings.filterwarnings('ignore')"
   ]
  },
  {
   "cell_type": "code",
   "execution_count": 3,
   "metadata": {},
   "outputs": [],
   "source": [
    "os.environ[\"DARSHAN_DIR\"] = \"/soft/perftools/darshan/darshan-3.1.8\"\n",
    "os.environ[\"VANIDL_DIR\"] = VANIDL_DIR"
   ]
  },
  {
   "cell_type": "markdown",
   "metadata": {},
   "source": [
    "#### Formatting"
   ]
  },
  {
   "cell_type": "code",
   "execution_count": 4,
   "metadata": {},
   "outputs": [],
   "source": [
    "pp = pprint.PrettyPrinter(indent=1)\n",
    "class color:\n",
    "    PURPLE = '\\033[95m'\n",
    "    CYAN = '\\033[96m'\n",
    "    DARKCYAN = '\\033[36m'\n",
    "    BLUE = '\\033[94m'\n",
    "    GREEN = '\\033[92m'\n",
    "    YELLOW = '\\033[93m'\n",
    "    RED = '\\033[91m'\n",
    "    BOLD = '\\033[1m'\n",
    "    UNDERLINE = '\\033[4m'\n",
    "    END = '\\033[0m'"
   ]
  },
  {
   "cell_type": "markdown",
   "metadata": {},
   "source": [
    "## Create instrance of DL Profile and load the darshan file"
   ]
  },
  {
   "cell_type": "code",
   "execution_count": 5,
   "metadata": {},
   "outputs": [],
   "source": [
    "from src.vanidl import VaniDL\n",
    "profile = VaniDL()"
   ]
  },
  {
   "cell_type": "code",
   "execution_count": 33,
   "metadata": {},
   "outputs": [
    {
     "name": "stdout",
     "output_type": "stream",
     "text": [
      "[============================================================] 100.0% 1046374 of 1046374 Parsing DXT File \n",
      "[============================================================] 100.0% 4234 of 4234 Parsing Darshan File \n",
      "Darshan Trace loaded Successfully!\n"
     ]
    }
   ],
   "source": [
    "\n",
    "DATAPATH_INCLUDES = []\n",
    "status = profile.Load(\"/home/dhari/darshan-logs/apps/cosmoflow/cosmo_run3_p8.darshan\", data_paths_include=DATAPATH_INCLUDES)\n",
    "if status:\n",
    "    print(\"Darshan Trace loaded Successfully!\")\n",
    "else:\n",
    "    print(\"Darshan Trace load Failed!\")\n",
    "    print(profile._error_str())"
   ]
  },
  {
   "cell_type": "markdown",
   "metadata": {},
   "source": [
    "## Use Profile object to analyze the darshan I/O trace."
   ]
  },
  {
   "cell_type": "markdown",
   "metadata": {},
   "source": [
    "### Verify if object works\n",
    "\n",
    "The GetDXTAsDF() function enables users to perform analysis "
   ]
  },
  {
   "cell_type": "code",
   "execution_count": 34,
   "metadata": {},
   "outputs": [
    {
     "name": "stdout",
     "output_type": "stream",
     "text": [
      "'Files used in the application'\n",
      "['/gpfs/mira-home/dhari/code/learnIO/benchmarks/cosmoflow-benchmark/configs/scaling_theta.yaml',\n",
      " '/home/dhari/code/learnIO/benchmarks/cosmoflow-benchmark/scratch/config.pkl',\n",
      " '/lus/theta-fs0/projects/MLPerfHPC/cosmoflow/dataset/cosmoUniverse_2019_02_4parE/dim128_cube_nT4/cosmoUniverse_2019_02_4parE-dim128_cube_nT4-rec1008.tfrecords',\n",
      " '/lus/theta-fs0/projects/MLPerfHPC/cosmoflow/dataset/cosmoUniverse_2019_02_4parE/dim128_cube_nT4/cosmoUniverse_2019_02_4parE-dim128_cube_nT4-rec1016.tfrecords',\n",
      " '/lus/theta-fs0/projects/MLPerfHPC/cosmoflow/dataset/cosmoUniverse_2019_02_4parE/dim128_cube_nT4/cosmoUniverse_2019_02_4parE-dim128_cube_nT4-rec1000.tfrecords',\n",
      " '/lus/theta-fs0/projects/MLPerfHPC/cosmoflow/dataset/cosmoUniverse_2019_02_4parE/dim128_cube_nT4/cosmoUniverse_2019_02_4parE-dim128_cube_nT4-rec1024.tfrecords',\n",
      " '/lus/theta-fs0/projects/MLPerfHPC/cosmoflow/dataset/cosmoUniverse_2019_02_4parE/dim128_cube_nT4/cosmoUniverse_2019_02_4parE-dim128_cube_nT4-rec1017.tfrecords',\n",
      " '/lus/theta-fs0/projects/MLPerfHPC/cosmoflow/dataset/cosmoUniverse_2019_02_4parE/dim128_cube_nT4/cosmoUniverse_2019_02_4parE-dim128_cube_nT4-rec1001.tfrecords',\n",
      " '/lus/theta-fs0/projects/MLPerfHPC/cosmoflow/dataset/cosmoUniverse_2019_02_4parE/dim128_cube_nT4/cosmoUniverse_2019_02_4parE-dim128_cube_nT4-rec1009.tfrecords',\n",
      " '/lus/theta-fs0/projects/MLPerfHPC/cosmoflow/dataset/cosmoUniverse_2019_02_4parE/dim128_cube_nT4/cosmoUniverse_2019_02_4parE-dim128_cube_nT4-rec1025.tfrecords',\n",
      " '/lus/theta-fs0/projects/MLPerfHPC/cosmoflow/dataset/cosmoUniverse_2019_02_4parE/dim128_cube_nT4/cosmoUniverse_2019_02_4parE-dim128_cube_nT4-rec1010.tfrecords',\n",
      " '/lus/theta-fs0/projects/MLPerfHPC/cosmoflow/dataset/cosmoUniverse_2019_02_4parE/dim128_cube_nT4/cosmoUniverse_2019_02_4parE-dim128_cube_nT4-rec1002.tfrecords',\n",
      " '/lus/theta-fs0/projects/MLPerfHPC/cosmoflow/dataset/cosmoUniverse_2019_02_4parE/dim128_cube_nT4/cosmoUniverse_2019_02_4parE-dim128_cube_nT4-rec1018.tfrecords',\n",
      " '/lus/theta-fs0/projects/MLPerfHPC/cosmoflow/dataset/cosmoUniverse_2019_02_4parE/dim128_cube_nT4/cosmoUniverse_2019_02_4parE-dim128_cube_nT4-rec1026.tfrecords',\n",
      " '/lus/theta-fs0/projects/MLPerfHPC/cosmoflow/dataset/cosmoUniverse_2019_02_4parE/dim128_cube_nT4/cosmoUniverse_2019_02_4parE-dim128_cube_nT4-rec1027.tfrecords',\n",
      " '/lus/theta-fs0/projects/MLPerfHPC/cosmoflow/dataset/cosmoUniverse_2019_02_4parE/dim128_cube_nT4/cosmoUniverse_2019_02_4parE-dim128_cube_nT4-rec1011.tfrecords',\n",
      " '/lus/theta-fs0/projects/MLPerfHPC/cosmoflow/dataset/cosmoUniverse_2019_02_4parE/dim128_cube_nT4/cosmoUniverse_2019_02_4parE-dim128_cube_nT4-rec1003.tfrecords',\n",
      " '/lus/theta-fs0/projects/MLPerfHPC/cosmoflow/dataset/cosmoUniverse_2019_02_4parE/dim128_cube_nT4/cosmoUniverse_2019_02_4parE-dim128_cube_nT4-rec1019.tfrecords',\n",
      " '/lus/theta-fs0/projects/MLPerfHPC/cosmoflow/dataset/cosmoUniverse_2019_02_4parE/dim128_cube_nT4/cosmoUniverse_2019_02_4parE-dim128_cube_nT4-rec1012.tfrecords',\n",
      " '/lus/theta-fs0/projects/MLPerfHPC/cosmoflow/dataset/cosmoUniverse_2019_02_4parE/dim128_cube_nT4/cosmoUniverse_2019_02_4parE-dim128_cube_nT4-rec1004.tfrecords',\n",
      " '/lus/theta-fs0/projects/MLPerfHPC/cosmoflow/dataset/cosmoUniverse_2019_02_4parE/dim128_cube_nT4/cosmoUniverse_2019_02_4parE-dim128_cube_nT4-rec1020.tfrecords',\n",
      " '/lus/theta-fs0/projects/MLPerfHPC/cosmoflow/dataset/cosmoUniverse_2019_02_4parE/dim128_cube_nT4/cosmoUniverse_2019_02_4parE-dim128_cube_nT4-rec1028.tfrecords',\n",
      " '/lus/theta-fs0/projects/MLPerfHPC/cosmoflow/dataset/cosmoUniverse_2019_02_4parE/dim128_cube_nT4/cosmoUniverse_2019_02_4parE-dim128_cube_nT4-rec1005.tfrecords',\n",
      " '/lus/theta-fs0/projects/MLPerfHPC/cosmoflow/dataset/cosmoUniverse_2019_02_4parE/dim128_cube_nT4/cosmoUniverse_2019_02_4parE-dim128_cube_nT4-rec1021.tfrecords',\n",
      " '/lus/theta-fs0/projects/MLPerfHPC/cosmoflow/dataset/cosmoUniverse_2019_02_4parE/dim128_cube_nT4/cosmoUniverse_2019_02_4parE-dim128_cube_nT4-rec1029.tfrecords',\n",
      " '/lus/theta-fs0/projects/MLPerfHPC/cosmoflow/dataset/cosmoUniverse_2019_02_4parE/dim128_cube_nT4/cosmoUniverse_2019_02_4parE-dim128_cube_nT4-rec1013.tfrecords',\n",
      " '/lus/theta-fs0/projects/MLPerfHPC/cosmoflow/dataset/cosmoUniverse_2019_02_4parE/dim128_cube_nT4/cosmoUniverse_2019_02_4parE-dim128_cube_nT4-rec1006.tfrecords',\n",
      " '/lus/theta-fs0/projects/MLPerfHPC/cosmoflow/dataset/cosmoUniverse_2019_02_4parE/dim128_cube_nT4/cosmoUniverse_2019_02_4parE-dim128_cube_nT4-rec1014.tfrecords',\n",
      " '/lus/theta-fs0/projects/MLPerfHPC/cosmoflow/dataset/cosmoUniverse_2019_02_4parE/dim128_cube_nT4/cosmoUniverse_2019_02_4parE-dim128_cube_nT4-rec1030.tfrecords',\n",
      " '/lus/theta-fs0/projects/MLPerfHPC/cosmoflow/dataset/cosmoUniverse_2019_02_4parE/dim128_cube_nT4/cosmoUniverse_2019_02_4parE-dim128_cube_nT4-rec1022.tfrecords',\n",
      " '/lus/theta-fs0/projects/MLPerfHPC/cosmoflow/dataset/cosmoUniverse_2019_02_4parE/dim128_cube_nT4/cosmoUniverse_2019_02_4parE-dim128_cube_nT4-rec1015.tfrecords',\n",
      " '/lus/theta-fs0/projects/MLPerfHPC/cosmoflow/dataset/cosmoUniverse_2019_02_4parE/dim128_cube_nT4/cosmoUniverse_2019_02_4parE-dim128_cube_nT4-rec1031.tfrecords',\n",
      " '/lus/theta-fs0/projects/MLPerfHPC/cosmoflow/dataset/cosmoUniverse_2019_02_4parE/dim128_cube_nT4/cosmoUniverse_2019_02_4parE-dim128_cube_nT4-rec1023.tfrecords',\n",
      " '/lus/theta-fs0/projects/MLPerfHPC/cosmoflow/dataset/cosmoUniverse_2019_02_4parE/dim128_cube_nT4/cosmoUniverse_2019_02_4parE-dim128_cube_nT4-rec1007.tfrecords']\n"
     ]
    }
   ],
   "source": [
    "df = profile.GetDXTAsDF()\n",
    "pp.pprint(\"Files used in the application\")\n",
    "pp.pprint(df['Filename'].unique().tolist())"
   ]
  },
  {
   "cell_type": "code",
   "execution_count": 35,
   "metadata": {},
   "outputs": [
    {
     "name": "stdout",
     "output_type": "stream",
     "text": [
      "'Files used in the application'\n",
      "['/lus/theta-fs0/projects/MLPerfHPC/cosmoflow/dataset/cosmoUniverse_2019_02_4parE/dim128_cube_nT4/cosmoUniverse_2019_02_4parE-dim128_cube_nT4-rec1000.tfrecords',\n",
      " '/lus/theta-fs0/projects/MLPerfHPC/cosmoflow/dataset/cosmoUniverse_2019_02_4parE/dim128_cube_nT4/cosmoUniverse_2019_02_4parE-dim128_cube_nT4-rec1008.tfrecords',\n",
      " '/home/dhari/code/learnIO/benchmarks/cosmoflow-benchmark/scratch/checkpoint-003.h5',\n",
      " '/home/dhari/code/learnIO/benchmarks/cosmoflow-benchmark/scratch/checkpoint-004.h5',\n",
      " '/lus/theta-fs0/projects/MLPerfHPC/cosmoflow/dataset/cosmoUniverse_2019_02_4parE/dim128_cube_nT4/cosmoUniverse_2019_02_4parE-dim128_cube_nT4-rec1024.tfrecords',\n",
      " '/lus/theta-fs0/projects/MLPerfHPC/cosmoflow/dataset/cosmoUniverse_2019_02_4parE/dim128_cube_nT4/cosmoUniverse_2019_02_4parE-dim128_cube_nT4-rec1016.tfrecords',\n",
      " '/home/dhari/code/learnIO/benchmarks/cosmoflow-benchmark/scratch/checkpoint-001.h5',\n",
      " '/home/dhari/code/learnIO/benchmarks/cosmoflow-benchmark/scratch/history.csv',\n",
      " '/home/dhari/code/learnIO/benchmarks/cosmoflow-benchmark/scratch/config.pkl',\n",
      " '/home/dhari/code/learnIO/benchmarks/cosmoflow-benchmark/scratch/checkpoint-002.h5',\n",
      " '/gpfs/mira-home/dhari/code/learnIO/benchmarks/cosmoflow-benchmark/configs/scaling_theta.yaml',\n",
      " '/lus/theta-fs0/projects/MLPerfHPC/cosmoflow/dataset/cosmoUniverse_2019_02_4parE/dim128_cube_nT4/cosmoUniverse_2019_02_4parE-dim128_cube_nT4-rec1009.tfrecords',\n",
      " '/lus/theta-fs0/projects/MLPerfHPC/cosmoflow/dataset/cosmoUniverse_2019_02_4parE/dim128_cube_nT4/cosmoUniverse_2019_02_4parE-dim128_cube_nT4-rec1025.tfrecords',\n",
      " '/lus/theta-fs0/projects/MLPerfHPC/cosmoflow/dataset/cosmoUniverse_2019_02_4parE/dim128_cube_nT4/cosmoUniverse_2019_02_4parE-dim128_cube_nT4-rec1017.tfrecords',\n",
      " '/lus/theta-fs0/projects/MLPerfHPC/cosmoflow/dataset/cosmoUniverse_2019_02_4parE/dim128_cube_nT4/cosmoUniverse_2019_02_4parE-dim128_cube_nT4-rec1001.tfrecords',\n",
      " '/lus/theta-fs0/projects/MLPerfHPC/cosmoflow/dataset/cosmoUniverse_2019_02_4parE/dim128_cube_nT4/cosmoUniverse_2019_02_4parE-dim128_cube_nT4-rec1026.tfrecords',\n",
      " '/lus/theta-fs0/projects/MLPerfHPC/cosmoflow/dataset/cosmoUniverse_2019_02_4parE/dim128_cube_nT4/cosmoUniverse_2019_02_4parE-dim128_cube_nT4-rec1010.tfrecords',\n",
      " '/lus/theta-fs0/projects/MLPerfHPC/cosmoflow/dataset/cosmoUniverse_2019_02_4parE/dim128_cube_nT4/cosmoUniverse_2019_02_4parE-dim128_cube_nT4-rec1018.tfrecords',\n",
      " '/lus/theta-fs0/projects/MLPerfHPC/cosmoflow/dataset/cosmoUniverse_2019_02_4parE/dim128_cube_nT4/cosmoUniverse_2019_02_4parE-dim128_cube_nT4-rec1002.tfrecords',\n",
      " '/lus/theta-fs0/projects/MLPerfHPC/cosmoflow/dataset/cosmoUniverse_2019_02_4parE/dim128_cube_nT4/cosmoUniverse_2019_02_4parE-dim128_cube_nT4-rec1011.tfrecords',\n",
      " '/lus/theta-fs0/projects/MLPerfHPC/cosmoflow/dataset/cosmoUniverse_2019_02_4parE/dim128_cube_nT4/cosmoUniverse_2019_02_4parE-dim128_cube_nT4-rec1003.tfrecords',\n",
      " '/lus/theta-fs0/projects/MLPerfHPC/cosmoflow/dataset/cosmoUniverse_2019_02_4parE/dim128_cube_nT4/cosmoUniverse_2019_02_4parE-dim128_cube_nT4-rec1019.tfrecords',\n",
      " '/lus/theta-fs0/projects/MLPerfHPC/cosmoflow/dataset/cosmoUniverse_2019_02_4parE/dim128_cube_nT4/cosmoUniverse_2019_02_4parE-dim128_cube_nT4-rec1027.tfrecords',\n",
      " '/lus/theta-fs0/projects/MLPerfHPC/cosmoflow/dataset/cosmoUniverse_2019_02_4parE/dim128_cube_nT4/cosmoUniverse_2019_02_4parE-dim128_cube_nT4-rec1028.tfrecords',\n",
      " '/lus/theta-fs0/projects/MLPerfHPC/cosmoflow/dataset/cosmoUniverse_2019_02_4parE/dim128_cube_nT4/cosmoUniverse_2019_02_4parE-dim128_cube_nT4-rec1004.tfrecords',\n",
      " '/lus/theta-fs0/projects/MLPerfHPC/cosmoflow/dataset/cosmoUniverse_2019_02_4parE/dim128_cube_nT4/cosmoUniverse_2019_02_4parE-dim128_cube_nT4-rec1020.tfrecords',\n",
      " '/lus/theta-fs0/projects/MLPerfHPC/cosmoflow/dataset/cosmoUniverse_2019_02_4parE/dim128_cube_nT4/cosmoUniverse_2019_02_4parE-dim128_cube_nT4-rec1012.tfrecords',\n",
      " '/lus/theta-fs0/projects/MLPerfHPC/cosmoflow/dataset/cosmoUniverse_2019_02_4parE/dim128_cube_nT4/cosmoUniverse_2019_02_4parE-dim128_cube_nT4-rec1021.tfrecords',\n",
      " '/lus/theta-fs0/projects/MLPerfHPC/cosmoflow/dataset/cosmoUniverse_2019_02_4parE/dim128_cube_nT4/cosmoUniverse_2019_02_4parE-dim128_cube_nT4-rec1005.tfrecords',\n",
      " '/lus/theta-fs0/projects/MLPerfHPC/cosmoflow/dataset/cosmoUniverse_2019_02_4parE/dim128_cube_nT4/cosmoUniverse_2019_02_4parE-dim128_cube_nT4-rec1029.tfrecords',\n",
      " '/lus/theta-fs0/projects/MLPerfHPC/cosmoflow/dataset/cosmoUniverse_2019_02_4parE/dim128_cube_nT4/cosmoUniverse_2019_02_4parE-dim128_cube_nT4-rec1013.tfrecords',\n",
      " '/lus/theta-fs0/projects/MLPerfHPC/cosmoflow/dataset/cosmoUniverse_2019_02_4parE/dim128_cube_nT4/cosmoUniverse_2019_02_4parE-dim128_cube_nT4-rec1022.tfrecords',\n",
      " '/lus/theta-fs0/projects/MLPerfHPC/cosmoflow/dataset/cosmoUniverse_2019_02_4parE/dim128_cube_nT4/cosmoUniverse_2019_02_4parE-dim128_cube_nT4-rec1006.tfrecords',\n",
      " '/lus/theta-fs0/projects/MLPerfHPC/cosmoflow/dataset/cosmoUniverse_2019_02_4parE/dim128_cube_nT4/cosmoUniverse_2019_02_4parE-dim128_cube_nT4-rec1014.tfrecords',\n",
      " '/lus/theta-fs0/projects/MLPerfHPC/cosmoflow/dataset/cosmoUniverse_2019_02_4parE/dim128_cube_nT4/cosmoUniverse_2019_02_4parE-dim128_cube_nT4-rec1030.tfrecords',\n",
      " '/lus/theta-fs0/projects/MLPerfHPC/cosmoflow/dataset/cosmoUniverse_2019_02_4parE/dim128_cube_nT4/cosmoUniverse_2019_02_4parE-dim128_cube_nT4-rec1007.tfrecords',\n",
      " '/lus/theta-fs0/projects/MLPerfHPC/cosmoflow/dataset/cosmoUniverse_2019_02_4parE/dim128_cube_nT4/cosmoUniverse_2019_02_4parE-dim128_cube_nT4-rec1023.tfrecords',\n",
      " '/lus/theta-fs0/projects/MLPerfHPC/cosmoflow/dataset/cosmoUniverse_2019_02_4parE/dim128_cube_nT4/cosmoUniverse_2019_02_4parE-dim128_cube_nT4-rec1015.tfrecords',\n",
      " '/lus/theta-fs0/projects/MLPerfHPC/cosmoflow/dataset/cosmoUniverse_2019_02_4parE/dim128_cube_nT4/cosmoUniverse_2019_02_4parE-dim128_cube_nT4-rec1031.tfrecords']\n"
     ]
    }
   ],
   "source": [
    "df_normal = profile.GetTraceAsDF()\n",
    "pp.pprint(\"Files used in the application\")\n",
    "pp.pprint(df_normal['Filename'].unique().tolist())"
   ]
  },
  {
   "cell_type": "markdown",
   "metadata": {},
   "source": [
    "### Collect the summary of the Application"
   ]
  },
  {
   "cell_type": "code",
   "execution_count": 49,
   "metadata": {},
   "outputs": [
    {
     "name": "stdout",
     "output_type": "stream",
     "text": [
      "\n",
      "\n",
      "\u001b[1mData Access Summary (from Darshan):\u001b[0m\n",
      "Total Job time\t\t\t:\t325.00 seconds\n",
      "Time spent in I/O\t\t:\t33.57 seconds\n",
      "% Time spent in I/O\t\t:\t10.33%\n",
      "Total Data Accessed\t\t:\t256.00 GB\n",
      "Data Access Modules used\t:\t['X_POSIX']\n",
      "Data Operations\t\t\t:\t['read' 'write']\n",
      "# of files used\t\t\t:\t34\n",
      "# of MPI Ranks\t\t\t:\t8 ranks\n",
      "\u001b[4mData Transfer size:\u001b[0m\n",
      "\tMin,Max\t\t\t:\t0 bytes and 262144 bytes\n",
      "\tAverage\t\t\t:\t262066 bytes\n",
      "\tMedian\t\t\t:\t262144 bytes\n",
      "\u001b[4mData Transfer bandwidth: (per rank)\u001b[0m\n",
      "\tMin,Max\t\t\t:\t0 B/s and 2500 MB/s\n",
      "\tAverage\t\t\t:\t1951 MB/s\n",
      "\tMedian\t\t\t:\t2500 MB/s\n",
      "\u001b[4mAccess Pattern:\u001b[0m\n",
      "\tSequential\t\t:\t99.99%\n",
      "\tConsecutive\t\t:\t99.99%\n",
      "\n",
      "\n",
      "\u001b[1mFiles Summary:\u001b[0m\n",
      "File Types\t\t\t:\t['yaml' 'pkl' 'tfrecords']\n",
      "\u001b[4mDataset Size:\u001b[0m\n",
      "\tTotal\t\t\t:\t32.0 GB\n",
      "\tMin,Max\t\t\t:\t2.0 GB and 2.0 GB\n",
      "\tAverage\t\t\t:\t2.0 GB\n"
     ]
    }
   ],
   "source": [
    "summary = profile.GetSummary()\n",
    "print(\"\\n\")\n",
    "print(color.BOLD + \"Data Access Summary (from Darshan):\"+ color.END)\n",
    "print(\"Total Job time\\t\\t\\t:\\t{:0.2f} seconds\".format(summary['job_time']))\n",
    "#FIXME: calculate time per rank and then take max across it.\n",
    "print(\"Time spent in I/O\\t\\t:\\t{:0.2f} seconds\".format(summary['total_io_time']/8))\n",
    "print(\"% Time spent in I/O\\t\\t:\\t{:0.2f}%\".format(float(summary['total_io_time'])/8*100/summary['job_time']))\n",
    "print(\"Total Data Accessed\\t\\t:\\t{:0.2f} GB\".format(float(summary['total_io_bytes'])/1024.0/1024.0/1024.0))\n",
    "print(\"Data Access Modules used\\t:\\t{}\".format(summary['io_interface_used']))\n",
    "print(\"Data Operations\\t\\t\\t:\\t{}\".format(summary['io_operations_used']))\n",
    "print(\"# of files used\\t\\t\\t:\\t{}\".format(len(summary['files_used'])))\n",
    "print(\"# of MPI Ranks\\t\\t\\t:\\t{:0.0f} ranks\".format(summary['num_ranks']))\n",
    "      \n",
    "print(color.UNDERLINE + \"Data Transfer size:\"+ color.END)\n",
    "print(\"\\tMin,Max\\t\\t\\t:\\t{:0.0f} bytes and {:0.0f} bytes\".format(summary['data_transfer_size']['min'],summary['data_transfer_size']['max']))\n",
    "print(\"\\tAverage\\t\\t\\t:\\t{:0.0f} bytes\".format(summary['data_transfer_size']['mean']))\n",
    "print(\"\\tMedian\\t\\t\\t:\\t{:0.0f} bytes\".format(summary['data_transfer_size']['median']))\n",
    "      \n",
    "print(color.UNDERLINE + \"Data Transfer bandwidth: (per rank)\"+ color.END)\n",
    "print(\"\\tMin,Max\\t\\t\\t:\\t{:0.0f} B/s and {:0.0f} MB/s\".format(summary['data_transfer_bandwidth']['min'],summary['data_transfer_bandwidth']['max']/1024.0/1024.0))\n",
    "print(\"\\tAverage\\t\\t\\t:\\t{:0.0f} MB/s\".format(summary['data_transfer_bandwidth']['mean']/1024.0/1024.0))\n",
    "print(\"\\tMedian\\t\\t\\t:\\t{:0.0f} MB/s\".format(summary['data_transfer_bandwidth']['median']/1024.0/1024.0))\n",
    "      \n",
    "print(color.UNDERLINE + \"Access Pattern:\"+ color.END)\n",
    "print(\"\\tSequential\\t\\t:\\t{:0.2f}%\".format(float(summary['access_pattern']['sequential'])))\n",
    "print(\"\\tConsecutive\\t\\t:\\t{:0.2f}%\".format(float(summary['access_pattern']['consecutive'])))\n",
    "#An I/O op issued at an offset greater than where the previous I/O op ended.\n",
    "#An I/O op issued at the offset immediately after the end of the previous I/O\n",
    "\n",
    "print(\"\\n\")\n",
    "print(color.BOLD + \"Files Summary:\"+ color.END)\n",
    "print(\"File Types\\t\\t\\t:\\t{}\".format(summary['file_used_summary']['types']))\n",
    "print(color.UNDERLINE + \"Dataset Size:\"+ color.END)\n",
    "print(\"\\tTotal\\t\\t\\t:\\t{:0.1f} GB\".format(32))\n",
    "print(\"\\tMin,Max\\t\\t\\t:\\t{:0.1f} GB and {:0.1f} GB\".format(2,2))\n",
    "print(\"\\tAverage\\t\\t\\t:\\t{:0.1f} GB\".format(2))"
   ]
  },
  {
   "cell_type": "code",
   "execution_count": 37,
   "metadata": {},
   "outputs": [
    {
     "name": "stdout",
     "output_type": "stream",
     "text": [
      "'Job time : 325.0 seconds'\n"
     ]
    }
   ],
   "source": [
    "pp.pprint(\"Job time : {} seconds\".format(profile.GetJobTime()))"
   ]
  },
  {
   "cell_type": "code",
   "execution_count": 38,
   "metadata": {},
   "outputs": [
    {
     "name": "stdout",
     "output_type": "stream",
     "text": [
      "'Time spent by application on I/O: 33.574102375 seconds'\n"
     ]
    }
   ],
   "source": [
    "pp.pprint(\"Time spent by application on I/O: {} seconds\".format(profile.GetIOTime()/8))"
   ]
  },
  {
   "cell_type": "markdown",
   "metadata": {},
   "source": [
    "### I/O time spent on each file"
   ]
  },
  {
   "cell_type": "code",
   "execution_count": 39,
   "metadata": {},
   "outputs": [
    {
     "name": "stdout",
     "output_type": "stream",
     "text": [
      "I/O time for file /gpfs/mira-home/dhari/code/learnIO/benchmarks/cosmoflow-benchmark/configs/scaling_theta.yaml: 0.22 seconds\n",
      "I/O time for file /home/dhari/code/learnIO/benchmarks/cosmoflow-benchmark/scratch/config.pkl: 27.58 seconds\n",
      "I/O time for file /lus/theta-fs0/projects/MLPerfHPC/cosmoflow/dataset/cosmoUniverse_2019_02_4parE/dim128_cube_nT4/cosmoUniverse_2019_02_4parE-dim128_cube_nT4-rec1008.tfrecords: 6.91 seconds\n",
      "I/O time for file /lus/theta-fs0/projects/MLPerfHPC/cosmoflow/dataset/cosmoUniverse_2019_02_4parE/dim128_cube_nT4/cosmoUniverse_2019_02_4parE-dim128_cube_nT4-rec1016.tfrecords: 6.80 seconds\n",
      "I/O time for file /lus/theta-fs0/projects/MLPerfHPC/cosmoflow/dataset/cosmoUniverse_2019_02_4parE/dim128_cube_nT4/cosmoUniverse_2019_02_4parE-dim128_cube_nT4-rec1000.tfrecords: 7.72 seconds\n",
      "I/O time for file /lus/theta-fs0/projects/MLPerfHPC/cosmoflow/dataset/cosmoUniverse_2019_02_4parE/dim128_cube_nT4/cosmoUniverse_2019_02_4parE-dim128_cube_nT4-rec1024.tfrecords: 7.89 seconds\n",
      "I/O time for file /lus/theta-fs0/projects/MLPerfHPC/cosmoflow/dataset/cosmoUniverse_2019_02_4parE/dim128_cube_nT4/cosmoUniverse_2019_02_4parE-dim128_cube_nT4-rec1017.tfrecords: 6.97 seconds\n",
      "I/O time for file /lus/theta-fs0/projects/MLPerfHPC/cosmoflow/dataset/cosmoUniverse_2019_02_4parE/dim128_cube_nT4/cosmoUniverse_2019_02_4parE-dim128_cube_nT4-rec1001.tfrecords: 6.88 seconds\n",
      "I/O time for file /lus/theta-fs0/projects/MLPerfHPC/cosmoflow/dataset/cosmoUniverse_2019_02_4parE/dim128_cube_nT4/cosmoUniverse_2019_02_4parE-dim128_cube_nT4-rec1009.tfrecords: 7.76 seconds\n",
      "I/O time for file /lus/theta-fs0/projects/MLPerfHPC/cosmoflow/dataset/cosmoUniverse_2019_02_4parE/dim128_cube_nT4/cosmoUniverse_2019_02_4parE-dim128_cube_nT4-rec1025.tfrecords: 8.18 seconds\n",
      "I/O time for file /lus/theta-fs0/projects/MLPerfHPC/cosmoflow/dataset/cosmoUniverse_2019_02_4parE/dim128_cube_nT4/cosmoUniverse_2019_02_4parE-dim128_cube_nT4-rec1010.tfrecords: 7.41 seconds\n",
      "I/O time for file /lus/theta-fs0/projects/MLPerfHPC/cosmoflow/dataset/cosmoUniverse_2019_02_4parE/dim128_cube_nT4/cosmoUniverse_2019_02_4parE-dim128_cube_nT4-rec1002.tfrecords: 7.41 seconds\n",
      "I/O time for file /lus/theta-fs0/projects/MLPerfHPC/cosmoflow/dataset/cosmoUniverse_2019_02_4parE/dim128_cube_nT4/cosmoUniverse_2019_02_4parE-dim128_cube_nT4-rec1018.tfrecords: 8.53 seconds\n",
      "I/O time for file /lus/theta-fs0/projects/MLPerfHPC/cosmoflow/dataset/cosmoUniverse_2019_02_4parE/dim128_cube_nT4/cosmoUniverse_2019_02_4parE-dim128_cube_nT4-rec1026.tfrecords: 8.56 seconds\n",
      "I/O time for file /lus/theta-fs0/projects/MLPerfHPC/cosmoflow/dataset/cosmoUniverse_2019_02_4parE/dim128_cube_nT4/cosmoUniverse_2019_02_4parE-dim128_cube_nT4-rec1027.tfrecords: 7.16 seconds\n",
      "I/O time for file /lus/theta-fs0/projects/MLPerfHPC/cosmoflow/dataset/cosmoUniverse_2019_02_4parE/dim128_cube_nT4/cosmoUniverse_2019_02_4parE-dim128_cube_nT4-rec1011.tfrecords: 7.08 seconds\n",
      "I/O time for file /lus/theta-fs0/projects/MLPerfHPC/cosmoflow/dataset/cosmoUniverse_2019_02_4parE/dim128_cube_nT4/cosmoUniverse_2019_02_4parE-dim128_cube_nT4-rec1003.tfrecords: 8.17 seconds\n",
      "I/O time for file /lus/theta-fs0/projects/MLPerfHPC/cosmoflow/dataset/cosmoUniverse_2019_02_4parE/dim128_cube_nT4/cosmoUniverse_2019_02_4parE-dim128_cube_nT4-rec1019.tfrecords: 7.97 seconds\n",
      "I/O time for file /lus/theta-fs0/projects/MLPerfHPC/cosmoflow/dataset/cosmoUniverse_2019_02_4parE/dim128_cube_nT4/cosmoUniverse_2019_02_4parE-dim128_cube_nT4-rec1012.tfrecords: 7.31 seconds\n",
      "I/O time for file /lus/theta-fs0/projects/MLPerfHPC/cosmoflow/dataset/cosmoUniverse_2019_02_4parE/dim128_cube_nT4/cosmoUniverse_2019_02_4parE-dim128_cube_nT4-rec1004.tfrecords: 7.08 seconds\n",
      "I/O time for file /lus/theta-fs0/projects/MLPerfHPC/cosmoflow/dataset/cosmoUniverse_2019_02_4parE/dim128_cube_nT4/cosmoUniverse_2019_02_4parE-dim128_cube_nT4-rec1020.tfrecords: 8.03 seconds\n",
      "I/O time for file /lus/theta-fs0/projects/MLPerfHPC/cosmoflow/dataset/cosmoUniverse_2019_02_4parE/dim128_cube_nT4/cosmoUniverse_2019_02_4parE-dim128_cube_nT4-rec1028.tfrecords: 8.31 seconds\n",
      "I/O time for file /lus/theta-fs0/projects/MLPerfHPC/cosmoflow/dataset/cosmoUniverse_2019_02_4parE/dim128_cube_nT4/cosmoUniverse_2019_02_4parE-dim128_cube_nT4-rec1005.tfrecords: 6.80 seconds\n",
      "I/O time for file /lus/theta-fs0/projects/MLPerfHPC/cosmoflow/dataset/cosmoUniverse_2019_02_4parE/dim128_cube_nT4/cosmoUniverse_2019_02_4parE-dim128_cube_nT4-rec1021.tfrecords: 6.70 seconds\n",
      "I/O time for file /lus/theta-fs0/projects/MLPerfHPC/cosmoflow/dataset/cosmoUniverse_2019_02_4parE/dim128_cube_nT4/cosmoUniverse_2019_02_4parE-dim128_cube_nT4-rec1029.tfrecords: 7.45 seconds\n",
      "I/O time for file /lus/theta-fs0/projects/MLPerfHPC/cosmoflow/dataset/cosmoUniverse_2019_02_4parE/dim128_cube_nT4/cosmoUniverse_2019_02_4parE-dim128_cube_nT4-rec1013.tfrecords: 7.88 seconds\n",
      "I/O time for file /lus/theta-fs0/projects/MLPerfHPC/cosmoflow/dataset/cosmoUniverse_2019_02_4parE/dim128_cube_nT4/cosmoUniverse_2019_02_4parE-dim128_cube_nT4-rec1006.tfrecords: 7.18 seconds\n",
      "I/O time for file /lus/theta-fs0/projects/MLPerfHPC/cosmoflow/dataset/cosmoUniverse_2019_02_4parE/dim128_cube_nT4/cosmoUniverse_2019_02_4parE-dim128_cube_nT4-rec1014.tfrecords: 7.09 seconds\n",
      "I/O time for file /lus/theta-fs0/projects/MLPerfHPC/cosmoflow/dataset/cosmoUniverse_2019_02_4parE/dim128_cube_nT4/cosmoUniverse_2019_02_4parE-dim128_cube_nT4-rec1030.tfrecords: 7.41 seconds\n",
      "I/O time for file /lus/theta-fs0/projects/MLPerfHPC/cosmoflow/dataset/cosmoUniverse_2019_02_4parE/dim128_cube_nT4/cosmoUniverse_2019_02_4parE-dim128_cube_nT4-rec1022.tfrecords: 7.87 seconds\n",
      "I/O time for file /lus/theta-fs0/projects/MLPerfHPC/cosmoflow/dataset/cosmoUniverse_2019_02_4parE/dim128_cube_nT4/cosmoUniverse_2019_02_4parE-dim128_cube_nT4-rec1015.tfrecords: 7.01 seconds\n",
      "I/O time for file /lus/theta-fs0/projects/MLPerfHPC/cosmoflow/dataset/cosmoUniverse_2019_02_4parE/dim128_cube_nT4/cosmoUniverse_2019_02_4parE-dim128_cube_nT4-rec1031.tfrecords: 7.08 seconds\n",
      "I/O time for file /lus/theta-fs0/projects/MLPerfHPC/cosmoflow/dataset/cosmoUniverse_2019_02_4parE/dim128_cube_nT4/cosmoUniverse_2019_02_4parE-dim128_cube_nT4-rec1023.tfrecords: 8.07 seconds\n",
      "I/O time for file /lus/theta-fs0/projects/MLPerfHPC/cosmoflow/dataset/cosmoUniverse_2019_02_4parE/dim128_cube_nT4/cosmoUniverse_2019_02_4parE-dim128_cube_nT4-rec1007.tfrecords: 8.09 seconds\n"
     ]
    }
   ],
   "source": [
    "for file in df['Filename'].unique():\n",
    "    print(\"I/O time for file {}: {:0.2f} seconds\".format(file,profile.GetIOTime(filepath=file)))"
   ]
  },
  {
   "cell_type": "markdown",
   "metadata": {},
   "source": [
    "### I/O Time spent per rank"
   ]
  },
  {
   "cell_type": "code",
   "execution_count": 40,
   "metadata": {},
   "outputs": [
    {
     "name": "stdout",
     "output_type": "stream",
     "text": [
      "I/O time for rank 0: 35.97 seconds\n",
      "I/O time for rank 1: 36.51 seconds\n",
      "I/O time for rank 2: 33.86 seconds\n",
      "I/O time for rank 3: 35.56 seconds\n",
      "I/O time for rank 4: 35.20 seconds\n",
      "I/O time for rank 5: 37.06 seconds\n",
      "I/O time for rank 6: 34.57 seconds\n",
      "I/O time for rank 7: 35.15 seconds\n"
     ]
    }
   ],
   "source": [
    "for rank in df['Rank'].unique():\n",
    "    print(\"I/O time for rank {}: {:0.2f} seconds\".format(rank,profile.GetIOTime(rank=rank)))"
   ]
  },
  {
   "cell_type": "code",
   "execution_count": 41,
   "metadata": {},
   "outputs": [
    {
     "data": {
      "text/plain": [
       "'Total I/O performed by application: 256.00 GB'"
      ]
     },
     "execution_count": 41,
     "metadata": {},
     "output_type": "execute_result"
    }
   ],
   "source": [
    "\"Total I/O performed by application: {:0.2f} GB\".format(float(profile.GetIOSize())/1024.0/1024.0/1024.0)"
   ]
  },
  {
   "cell_type": "markdown",
   "metadata": {},
   "source": [
    "### I/O performed on each file"
   ]
  },
  {
   "cell_type": "code",
   "execution_count": 42,
   "metadata": {},
   "outputs": [
    {
     "name": "stdout",
     "output_type": "stream",
     "text": [
      "I/O performed on file /gpfs/mira-home/dhari/code/learnIO/benchmarks/cosmoflow-benchmark/configs/scaling_theta.yaml: 0.00 MB\n",
      "I/O performed on file /home/dhari/code/learnIO/benchmarks/cosmoflow-benchmark/scratch/config.pkl: 0.00 MB\n",
      "I/O performed on file /lus/theta-fs0/projects/MLPerfHPC/cosmoflow/dataset/cosmoUniverse_2019_02_4parE/dim128_cube_nT4/cosmoUniverse_2019_02_4parE-dim128_cube_nT4-rec1008.tfrecords: 8192.03 MB\n",
      "I/O performed on file /lus/theta-fs0/projects/MLPerfHPC/cosmoflow/dataset/cosmoUniverse_2019_02_4parE/dim128_cube_nT4/cosmoUniverse_2019_02_4parE-dim128_cube_nT4-rec1016.tfrecords: 8192.03 MB\n",
      "I/O performed on file /lus/theta-fs0/projects/MLPerfHPC/cosmoflow/dataset/cosmoUniverse_2019_02_4parE/dim128_cube_nT4/cosmoUniverse_2019_02_4parE-dim128_cube_nT4-rec1000.tfrecords: 8192.03 MB\n",
      "I/O performed on file /lus/theta-fs0/projects/MLPerfHPC/cosmoflow/dataset/cosmoUniverse_2019_02_4parE/dim128_cube_nT4/cosmoUniverse_2019_02_4parE-dim128_cube_nT4-rec1024.tfrecords: 8192.03 MB\n",
      "I/O performed on file /lus/theta-fs0/projects/MLPerfHPC/cosmoflow/dataset/cosmoUniverse_2019_02_4parE/dim128_cube_nT4/cosmoUniverse_2019_02_4parE-dim128_cube_nT4-rec1017.tfrecords: 8192.03 MB\n",
      "I/O performed on file /lus/theta-fs0/projects/MLPerfHPC/cosmoflow/dataset/cosmoUniverse_2019_02_4parE/dim128_cube_nT4/cosmoUniverse_2019_02_4parE-dim128_cube_nT4-rec1001.tfrecords: 8192.03 MB\n",
      "I/O performed on file /lus/theta-fs0/projects/MLPerfHPC/cosmoflow/dataset/cosmoUniverse_2019_02_4parE/dim128_cube_nT4/cosmoUniverse_2019_02_4parE-dim128_cube_nT4-rec1009.tfrecords: 8192.03 MB\n",
      "I/O performed on file /lus/theta-fs0/projects/MLPerfHPC/cosmoflow/dataset/cosmoUniverse_2019_02_4parE/dim128_cube_nT4/cosmoUniverse_2019_02_4parE-dim128_cube_nT4-rec1025.tfrecords: 8192.03 MB\n",
      "I/O performed on file /lus/theta-fs0/projects/MLPerfHPC/cosmoflow/dataset/cosmoUniverse_2019_02_4parE/dim128_cube_nT4/cosmoUniverse_2019_02_4parE-dim128_cube_nT4-rec1010.tfrecords: 8192.03 MB\n",
      "I/O performed on file /lus/theta-fs0/projects/MLPerfHPC/cosmoflow/dataset/cosmoUniverse_2019_02_4parE/dim128_cube_nT4/cosmoUniverse_2019_02_4parE-dim128_cube_nT4-rec1002.tfrecords: 8192.03 MB\n",
      "I/O performed on file /lus/theta-fs0/projects/MLPerfHPC/cosmoflow/dataset/cosmoUniverse_2019_02_4parE/dim128_cube_nT4/cosmoUniverse_2019_02_4parE-dim128_cube_nT4-rec1018.tfrecords: 8192.03 MB\n",
      "I/O performed on file /lus/theta-fs0/projects/MLPerfHPC/cosmoflow/dataset/cosmoUniverse_2019_02_4parE/dim128_cube_nT4/cosmoUniverse_2019_02_4parE-dim128_cube_nT4-rec1026.tfrecords: 8192.03 MB\n",
      "I/O performed on file /lus/theta-fs0/projects/MLPerfHPC/cosmoflow/dataset/cosmoUniverse_2019_02_4parE/dim128_cube_nT4/cosmoUniverse_2019_02_4parE-dim128_cube_nT4-rec1027.tfrecords: 8192.03 MB\n",
      "I/O performed on file /lus/theta-fs0/projects/MLPerfHPC/cosmoflow/dataset/cosmoUniverse_2019_02_4parE/dim128_cube_nT4/cosmoUniverse_2019_02_4parE-dim128_cube_nT4-rec1011.tfrecords: 8192.03 MB\n",
      "I/O performed on file /lus/theta-fs0/projects/MLPerfHPC/cosmoflow/dataset/cosmoUniverse_2019_02_4parE/dim128_cube_nT4/cosmoUniverse_2019_02_4parE-dim128_cube_nT4-rec1003.tfrecords: 8192.03 MB\n",
      "I/O performed on file /lus/theta-fs0/projects/MLPerfHPC/cosmoflow/dataset/cosmoUniverse_2019_02_4parE/dim128_cube_nT4/cosmoUniverse_2019_02_4parE-dim128_cube_nT4-rec1019.tfrecords: 8192.03 MB\n",
      "I/O performed on file /lus/theta-fs0/projects/MLPerfHPC/cosmoflow/dataset/cosmoUniverse_2019_02_4parE/dim128_cube_nT4/cosmoUniverse_2019_02_4parE-dim128_cube_nT4-rec1012.tfrecords: 8192.03 MB\n",
      "I/O performed on file /lus/theta-fs0/projects/MLPerfHPC/cosmoflow/dataset/cosmoUniverse_2019_02_4parE/dim128_cube_nT4/cosmoUniverse_2019_02_4parE-dim128_cube_nT4-rec1004.tfrecords: 8192.03 MB\n",
      "I/O performed on file /lus/theta-fs0/projects/MLPerfHPC/cosmoflow/dataset/cosmoUniverse_2019_02_4parE/dim128_cube_nT4/cosmoUniverse_2019_02_4parE-dim128_cube_nT4-rec1020.tfrecords: 8192.03 MB\n",
      "I/O performed on file /lus/theta-fs0/projects/MLPerfHPC/cosmoflow/dataset/cosmoUniverse_2019_02_4parE/dim128_cube_nT4/cosmoUniverse_2019_02_4parE-dim128_cube_nT4-rec1028.tfrecords: 8192.03 MB\n",
      "I/O performed on file /lus/theta-fs0/projects/MLPerfHPC/cosmoflow/dataset/cosmoUniverse_2019_02_4parE/dim128_cube_nT4/cosmoUniverse_2019_02_4parE-dim128_cube_nT4-rec1005.tfrecords: 8192.03 MB\n",
      "I/O performed on file /lus/theta-fs0/projects/MLPerfHPC/cosmoflow/dataset/cosmoUniverse_2019_02_4parE/dim128_cube_nT4/cosmoUniverse_2019_02_4parE-dim128_cube_nT4-rec1021.tfrecords: 8192.03 MB\n",
      "I/O performed on file /lus/theta-fs0/projects/MLPerfHPC/cosmoflow/dataset/cosmoUniverse_2019_02_4parE/dim128_cube_nT4/cosmoUniverse_2019_02_4parE-dim128_cube_nT4-rec1029.tfrecords: 8192.03 MB\n",
      "I/O performed on file /lus/theta-fs0/projects/MLPerfHPC/cosmoflow/dataset/cosmoUniverse_2019_02_4parE/dim128_cube_nT4/cosmoUniverse_2019_02_4parE-dim128_cube_nT4-rec1013.tfrecords: 8192.03 MB\n",
      "I/O performed on file /lus/theta-fs0/projects/MLPerfHPC/cosmoflow/dataset/cosmoUniverse_2019_02_4parE/dim128_cube_nT4/cosmoUniverse_2019_02_4parE-dim128_cube_nT4-rec1006.tfrecords: 8192.03 MB\n",
      "I/O performed on file /lus/theta-fs0/projects/MLPerfHPC/cosmoflow/dataset/cosmoUniverse_2019_02_4parE/dim128_cube_nT4/cosmoUniverse_2019_02_4parE-dim128_cube_nT4-rec1014.tfrecords: 8192.03 MB\n",
      "I/O performed on file /lus/theta-fs0/projects/MLPerfHPC/cosmoflow/dataset/cosmoUniverse_2019_02_4parE/dim128_cube_nT4/cosmoUniverse_2019_02_4parE-dim128_cube_nT4-rec1030.tfrecords: 8192.03 MB\n",
      "I/O performed on file /lus/theta-fs0/projects/MLPerfHPC/cosmoflow/dataset/cosmoUniverse_2019_02_4parE/dim128_cube_nT4/cosmoUniverse_2019_02_4parE-dim128_cube_nT4-rec1022.tfrecords: 8192.03 MB\n",
      "I/O performed on file /lus/theta-fs0/projects/MLPerfHPC/cosmoflow/dataset/cosmoUniverse_2019_02_4parE/dim128_cube_nT4/cosmoUniverse_2019_02_4parE-dim128_cube_nT4-rec1015.tfrecords: 8192.03 MB\n",
      "I/O performed on file /lus/theta-fs0/projects/MLPerfHPC/cosmoflow/dataset/cosmoUniverse_2019_02_4parE/dim128_cube_nT4/cosmoUniverse_2019_02_4parE-dim128_cube_nT4-rec1031.tfrecords: 8192.03 MB\n",
      "I/O performed on file /lus/theta-fs0/projects/MLPerfHPC/cosmoflow/dataset/cosmoUniverse_2019_02_4parE/dim128_cube_nT4/cosmoUniverse_2019_02_4parE-dim128_cube_nT4-rec1023.tfrecords: 8192.03 MB\n",
      "I/O performed on file /lus/theta-fs0/projects/MLPerfHPC/cosmoflow/dataset/cosmoUniverse_2019_02_4parE/dim128_cube_nT4/cosmoUniverse_2019_02_4parE-dim128_cube_nT4-rec1007.tfrecords: 8192.03 MB\n"
     ]
    }
   ],
   "source": [
    "for file in df['Filename'].unique():\n",
    "    print(\"I/O performed on file {}: {:0.2f} MB\".format(file,float(profile.GetIOSize(filepath=file))/1024.0/1024.0))"
   ]
  },
  {
   "cell_type": "code",
   "execution_count": 43,
   "metadata": {},
   "outputs": [
    {
     "name": "stdout",
     "output_type": "stream",
     "text": [
      "I/O performed by rank 0: 32654.83 MB\n",
      "I/O performed by rank 1: 32671.58 MB\n",
      "I/O performed by rank 2: 32671.58 MB\n",
      "I/O performed by rank 3: 32671.58 MB\n",
      "I/O performed by rank 4: 32671.58 MB\n",
      "I/O performed by rank 5: 32671.58 MB\n",
      "I/O performed by rank 6: 32671.58 MB\n",
      "I/O performed by rank 7: 32671.58 MB\n"
     ]
    }
   ],
   "source": [
    "for rank in df['Rank'].unique():\n",
    "    print(\"I/O performed by rank {}: {:0.2f} MB\".format(rank, float(profile.GetIOSize(rank=rank))/1024.0/1024.0))"
   ]
  },
  {
   "cell_type": "code",
   "execution_count": 44,
   "metadata": {},
   "outputs": [
    {
     "name": "stdout",
     "output_type": "stream",
     "text": [
      "Size of dataset (bytes)\n",
      "{'checkpoint-001': 961184.0,\n",
      " 'checkpoint-002': 961184.0,\n",
      " 'checkpoint-003': 961184.0,\n",
      " 'checkpoint-004': 961184.0,\n",
      " 'config': 712.0,\n",
      " 'history': 96.0,\n",
      " 'scaling_theta': 592.0}\n"
     ]
    }
   ],
   "source": [
    "print(\"Size of dataset (bytes)\")\n",
    "pp.pprint(profile.GetFileSizes())"
   ]
  },
  {
   "cell_type": "code",
   "execution_count": 45,
   "metadata": {},
   "outputs": [
    {
     "name": "stdout",
     "output_type": "stream",
     "text": [
      "ls: cannot access /lus/theta-fs0/projects/MLPerfHPC/cosmoflow/dataset/cosmoUniverse_2019_02_4parE/dim128_cube_nT4/cosmoUniverse_2019_02_4parE-dim128_cube_nT4-rec1003.tfrecords: Permission denied\r\n"
     ]
    }
   ],
   "source": [
    "file=\"/lus/theta-fs0/projects/MLPerfHPC/cosmoflow/dataset/cosmoUniverse_2019_02_4parE/dim128_cube_nT4/cosmoUniverse_2019_02_4parE-dim128_cube_nT4-rec1003.tfrecords\"\n",
    "!ls -l $file"
   ]
  },
  {
   "cell_type": "markdown",
   "metadata": {},
   "source": [
    "### How application access data over time."
   ]
  },
  {
   "cell_type": "code",
   "execution_count": 52,
   "metadata": {},
   "outputs": [
    {
     "name": "stdout",
     "output_type": "stream",
     "text": [
      "Loaded Pre-processed Timeline from file: /tmp/temp_analysis/cosmo_run3_p8_tm_df.csv\n"
     ]
    },
    {
     "data": {
      "image/png": "[encoded data removed]",
      "text/plain": [
       "<Figure size 576x288 with 1 Axes>"
      ]
     },
     "metadata": {
      "needs_background": "light"
     },
     "output_type": "display_data"
    }
   ],
   "source": [
    "tl = profile.CreateIOTimeline(time_step=0.001)\n",
    "plt.figure(figsize=(8,4))\n",
    "plt.xlabel(\"Timeline (ms)\")\n",
    "plt.ylabel(\"# of I/O Operations\")\n",
    "plt.grid()\n",
    "plt.plot(tl['time_step'], tl['operation_count']);"
   ]
  },
  {
   "cell_type": "code",
   "execution_count": 51,
   "metadata": {},
   "outputs": [
    {
     "data": {
      "image/png": "[encoded data removed]",
      "text/plain": [
       "<Figure size 576x288 with 1 Axes>"
      ]
     },
     "metadata": {
      "needs_background": "light"
     },
     "output_type": "display_data"
    }
   ],
   "source": [
    "plt.figure(figsize=(8,4))\n",
    "plt.xlabel(\"Timeline (ms)\")\n",
    "plt.ylabel(\"I/O Performed (bytes)\")\n",
    "plt.grid()\n",
    "plt.plot(tl['time_step'], tl['io_bytes']);"
   ]
  },
  {
   "cell_type": "markdown",
   "metadata": {},
   "source": [
    "### How files are accessed over the duration of the Job."
   ]
  },
  {
   "cell_type": "code",
   "execution_count": null,
   "metadata": {
    "scrolled": true
   },
   "outputs": [],
   "source": [
    "for file in df['Filename'].unique():\n",
    "    tl = profile.CreateIOTimeline(filepath=file,time_step=0.001)\n",
    "    tl.plot(x='time_step',y='operation_count', title=file)\n",
    "    plt.show()"
   ]
  },
  {
   "cell_type": "markdown",
   "metadata": {},
   "source": [
    "### Show how each file is accessed by each rank."
   ]
  },
  {
   "cell_type": "code",
   "execution_count": null,
   "metadata": {},
   "outputs": [],
   "source": [
    "for rank in df['Rank'].unique():\n",
    "    tl = profile.CreateIOTimeline(rank=rank)\n",
    "    tl.plot(x='time_step',y='operation_count', title=rank)\n",
    "    plt.show()"
   ]
  },
  {
   "cell_type": "markdown",
   "metadata": {},
   "source": [
    "### Data Transfer Size distribution within the application"
   ]
  },
  {
   "cell_type": "code",
   "execution_count": 54,
   "metadata": {},
   "outputs": [
    {
     "data": {
      "text/plain": [
       "Text(0.5, 0, 'Transfer Size (bytes)')"
      ]
     },
     "execution_count": 54,
     "metadata": {},
     "output_type": "execute_result"
    },
    {
     "data": {
      "image/png": "[encoded data removed]",
      "text/plain": [
       "<Figure size 360x216 with 1 Axes>"
      ]
     },
     "metadata": {
      "needs_background": "light"
     },
     "output_type": "display_data"
    }
   ],
   "source": [
    "request_df = profile.GetIORequestDistribution()\n",
    "df['Length'].plot(kind='hist', figsize=(5, 3));\n",
    "plt.xlabel(\"Transfer Size (bytes)\")"
   ]
  },
  {
   "cell_type": "markdown",
   "metadata": {},
   "source": [
    "### Data Transfer Size distribution for each file."
   ]
  },
  {
   "cell_type": "code",
   "execution_count": 55,
   "metadata": {},
   "outputs": [
    {
     "data": {
      "image/png": "[encoded data removed]",
      "text/plain": [
       "<Figure size 720x288 with 1 Axes>"
      ]
     },
     "metadata": {
      "needs_background": "light"
     },
     "output_type": "display_data"
    }
   ],
   "source": [
    "for file in df['Filename'].unique():\n",
    "    tl = profile.GetIORequestDistribution(filepath=file)\n",
    "    tl.plot(kind='bar', figsize=(10, 4), title=file)"
   ]
  },
  {
   "cell_type": "markdown",
   "metadata": {},
   "source": [
    "### Data Transfer Sizes per Rank"
   ]
  },
  {
   "cell_type": "code",
   "execution_count": 56,
   "metadata": {},
   "outputs": [
    {
     "data": {
      "image/png": "[encoded data removed]",
      "text/plain": [
       "<Figure size 720x288 with 1 Axes>"
      ]
     },
     "metadata": {
      "needs_background": "light"
     },
     "output_type": "display_data"
    },
    {
     "data": {
      "image/png": "[encoded data removed]",
      "text/plain": [
       "<Figure size 720x288 with 1 Axes>"
      ]
     },
     "metadata": {
      "needs_background": "light"
     },
     "output_type": "display_data"
    },
    {
     "data": {
      "image/png": "[encoded data removed]",
      "text/plain": [
       "<Figure size 720x288 with 1 Axes>"
      ]
     },
     "metadata": {
      "needs_background": "light"
     },
     "output_type": "display_data"
    },
    {
     "data": {
      "image/png": "[encoded data removed]",
      "text/plain": [
       "<Figure size 720x288 with 1 Axes>"
      ]
     },
     "metadata": {
      "needs_background": "light"
     },
     "output_type": "display_data"
    },
    {
     "data": {
      "image/png": "[encoded data removed]",
      "text/plain": [
       "<Figure size 720x288 with 1 Axes>"
      ]
     },
     "metadata": {
      "needs_background": "light"
     },
     "output_type": "display_data"
    },
    {
     "data": {
      "image/png": "[encoded data removed]",
      "text/plain": [
       "<Figure size 720x288 with 1 Axes>"
      ]
     },
     "metadata": {
      "needs_background": "light"
     },
     "output_type": "display_data"
    },
    {
     "data": {
      "image/png": "[encoded data removed]",
      "text/plain": [
       "<Figure size 720x288 with 1 Axes>"
      ]
     },
     "metadata": {
      "needs_background": "light"
     },
     "output_type": "display_data"
    },
    {
     "data": {
      "image/png": "[encoded data removed]",
      "text/plain": [
       "<Figure size 720x288 with 1 Axes>"
      ]
     },
     "metadata": {
      "needs_background": "light"
     },
     "output_type": "display_data"
    }
   ],
   "source": [
    "for rank in df['Rank'].unique():\n",
    "    tl = profile.GetIORequestDistribution(rank=rank)\n",
    "    tl.plot(kind='bar', figsize=(10, 4), title=rank)\n",
    "    plt.show()"
   ]
  },
  {
   "cell_type": "markdown",
   "metadata": {},
   "source": [
    "### File summary of each file accessed by the Application"
   ]
  },
  {
   "cell_type": "code",
   "execution_count": 57,
   "metadata": {},
   "outputs": [
    {
     "name": "stdout",
     "output_type": "stream",
     "text": [
      "/gpfs/mira-home/dhari/code/learnIO/benchmarks/cosmoflow-benchmark/configs/scaling_theta.yaml\n",
      "{'ext': 'yaml',\n",
      " 'filename': 'scaling_theta',\n",
      " 'io_size': 4736,\n",
      " 'io_time': 0.215567,\n",
      " 'path': '/gpfs/mira-home/dhari/code/learnIO/benchmarks/cosmoflow-benchmark/configs/scaling_theta.yaml',\n",
      " 'size': 592,\n",
      " 'special': {}}\n",
      "/home/dhari/code/learnIO/benchmarks/cosmoflow-benchmark/scratch/config.pkl\n",
      "{'ext': 'pkl',\n",
      " 'filename': 'config',\n",
      " 'io_size': 712,\n",
      " 'io_time': 27.579146,\n",
      " 'path': '/home/dhari/code/learnIO/benchmarks/cosmoflow-benchmark/scratch/config.pkl',\n",
      " 'size': 712,\n",
      " 'special': {}}\n",
      "/lus/theta-fs0/projects/MLPerfHPC/cosmoflow/dataset/cosmoUniverse_2019_02_4parE/dim128_cube_nT4/cosmoUniverse_2019_02_4parE-dim128_cube_nT4-rec1008.tfrecords\n"
     ]
    },
    {
     "ename": "SystemExit",
     "evalue": "{1009, 'ERROR:{} filepath does not exists.'}",
     "output_type": "error",
     "traceback": [
      "An exception has occurred, use %tb to see the full traceback.\n",
      "\u001b[0;31mSystemExit\u001b[0m\u001b[0;31m:\u001b[0m {1009, 'ERROR:{} filepath does not exists.'}\n"
     ]
    }
   ],
   "source": [
    "pp = pprint.PrettyPrinter(indent=1)\n",
    "for file in df['Filename'].unique():\n",
    "    print(file)\n",
    "    pp.pprint(profile.GetFileSummary(file))"
   ]
  },
  {
   "cell_type": "code",
   "execution_count": null,
   "metadata": {},
   "outputs": [],
   "source": []
  }
 ],
 "metadata": {
  "kernelspec": {
   "display_name": "Python 3",
   "language": "python",
   "name": "python3"
  },
  "language_info": {
   "codemirror_mode": {
    "name": "ipython",
    "version": 3
   },
   "file_extension": ".py",
   "mimetype": "text/x-python",
   "name": "python",
   "nbconvert_exporter": "python",
   "pygments_lexer": "ipython3",
   "version": "3.7.4"
  }
 },
 "nbformat": 4,
 "nbformat_minor": 2
}
