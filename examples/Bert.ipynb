{
 "cells": [
  {
   "cell_type": "markdown",
   "metadata": {},
   "source": [
    "# DLProfile Example using Bert Application"
   ]
  },
  {
   "cell_type": "markdown",
   "metadata": {},
   "source": [
    "## Set imports and neccessary environment variables"
   ]
  },
  {
   "cell_type": "code",
   "execution_count": 1,
   "metadata": {},
   "outputs": [],
   "source": [
    "import pathlib\n",
    "import os\n",
    "import sys\n",
    "import matplotlib.pyplot as plt\n",
    "import warnings\n",
    "import pprint\n",
    "import pandas"
   ]
  },
  {
   "cell_type": "code",
   "execution_count": 2,
   "metadata": {},
   "outputs": [],
   "source": [
    "VANIDL_DIR=\"{}\".format(pathlib.Path(os.getcwd()).parent.absolute())\n",
    "sys.path.insert(0, VANIDL_DIR)\n",
    "warnings.filterwarnings('ignore')"
   ]
  },
  {
   "cell_type": "code",
   "execution_count": 3,
   "metadata": {},
   "outputs": [],
   "source": [
    "os.environ[\"DARSHAN_DIR\"] = \"/soft/perftools/darshan/darshan-3.1.8\"\n",
    "os.environ[\"VANIDL_DIR\"] = VANIDL_DIR"
   ]
  },
  {
   "cell_type": "markdown",
   "metadata": {},
   "source": [
    "#### Formatting"
   ]
  },
  {
   "cell_type": "code",
   "execution_count": 4,
   "metadata": {},
   "outputs": [],
   "source": [
    "pp = pprint.PrettyPrinter(indent=1)\n",
    "class color:\n",
    "    PURPLE = '\\033[95m'\n",
    "    CYAN = '\\033[96m'\n",
    "    DARKCYAN = '\\033[36m'\n",
    "    BLUE = '\\033[94m'\n",
    "    GREEN = '\\033[92m'\n",
    "    YELLOW = '\\033[93m'\n",
    "    RED = '\\033[91m'\n",
    "    BOLD = '\\033[1m'\n",
    "    UNDERLINE = '\\033[4m'\n",
    "    END = '\\033[0m'"
   ]
  },
  {
   "cell_type": "markdown",
   "metadata": {},
   "source": [
    "## Create instrance of DL Profile and load the darshan file"
   ]
  },
  {
   "cell_type": "code",
   "execution_count": 5,
   "metadata": {},
   "outputs": [],
   "source": [
    "from src.vanidl import VaniDL\n",
    "profile = VaniDL()"
   ]
  },
  {
   "cell_type": "code",
   "execution_count": 6,
   "metadata": {},
   "outputs": [],
   "source": [
    "#import shutil\n",
    "#shutil.rmtree('/tmp/temp_analysis')"
   ]
  },
  {
   "cell_type": "code",
   "execution_count": 7,
   "metadata": {},
   "outputs": [
    {
     "name": "stdout",
     "output_type": "stream",
     "text": [
      "[============================================================] 100.0% 3872 of 3872 Parsing DXT File \n",
      "[============================================================] 100.0% 88500 of 88500 Parsing Darshan File \n",
      "Darshan Trace loaded Successfully!\n"
     ]
    }
   ],
   "source": [
    "\n",
    "DATAPATH_INCLUDES = []\n",
    "status = profile.Load(\"/home/dhari/darshan-logs/apps/bert/bert_run1_p1.darshan\", data_paths_include=DATAPATH_INCLUDES)\n",
    "if status:\n",
    "    print(\"Darshan Trace loaded Successfully!\")\n",
    "else:\n",
    "    print(\"Darshan Trace load Failed!\")\n",
    "    print(profile._error_str())"
   ]
  },
  {
   "cell_type": "markdown",
   "metadata": {},
   "source": [
    "## Use Profile object to analyze the darshan I/O trace."
   ]
  },
  {
   "cell_type": "markdown",
   "metadata": {},
   "source": [
    "### Verify if object works\n",
    "\n",
    "The GetDXTAsDF() function enables users to perform analysis "
   ]
  },
  {
   "cell_type": "code",
   "execution_count": 13,
   "metadata": {},
   "outputs": [
    {
     "name": "stdout",
     "output_type": "stream",
     "text": [
      "'Files used in the application'\n",
      "['/projects/datascience/dhari/datasets/bert/base/bert_config.json',\n",
      " '/projects/datascience/dhari/datasets/bert/base/vocab.txt']\n"
     ]
    },
    {
     "data": {
      "text/plain": [
       "231796"
      ]
     },
     "execution_count": 13,
     "metadata": {},
     "output_type": "execute_result"
    }
   ],
   "source": [
    "df = profile.GetDXTAsDF()\n",
    "pp.pprint(\"Files used in the application\")\n",
    "pp.pprint(df['Filename'].unique().tolist())\n",
    "df['Length'].sum()"
   ]
  },
  {
   "cell_type": "code",
   "execution_count": 9,
   "metadata": {},
   "outputs": [
    {
     "name": "stdout",
     "output_type": "stream",
     "text": [
      "'Files used in the application'\n",
      "['/projects/datascience/dhari/datasets/bert/base/vocab.txt',\n",
      " '/projects/datascience/dhari/datasets/bert/base/bert_config.json',\n",
      " '/home/dhari/output/model.ckpt-2_temp_fe5a2c083033481dbfb4c9e5dd7ad386/part-00000-of-00001.data-00000-of-00001.tempstate13335707987670392325',\n",
      " '/home/dhari/output/model.ckpt-2.meta.tmpdd68187121044651b2a10aff2fcb311f',\n",
      " '/home/dhari/output/checkpoint.tmp36f5b43096b64b0d809d31ad2ef71164',\n",
      " '/home/dhari/output/events.out.tfevents.1592669194.nid00000',\n",
      " '/home/dhari/output/graph.pbtxt.tmpaa880e27091b475184cffdce65511011',\n",
      " '<STDERR>',\n",
      " '/home/dhari/output/model.ckpt-2_temp_fe5a2c083033481dbfb4c9e5dd7ad386/part-00000-of-00001.index.tempstate17224637379092307897',\n",
      " '/home/dhari/output/model.ckpt-0.index',\n",
      " '/home/dhari/output/model.ckpt-0.meta.tmpb323046f89ce45a9a5dedd229488f2e2',\n",
      " '/home/dhari/output/train.tf_record',\n",
      " '/home/dhari/output/model.ckpt-2.index',\n",
      " '/home/dhari/output/model.ckpt-0_temp_fe5a2c083033481dbfb4c9e5dd7ad386/part-00000-of-00001.index.tempstate9401988118979900031',\n",
      " '/home/dhari/output/checkpoint.tmp243e51e5e3914dce831a06d8de742970',\n",
      " '/home/dhari/output/model.ckpt-0_temp_fe5a2c083033481dbfb4c9e5dd7ad386/part-00000-of-00001.data-00000-of-00001.tempstate720025706292089909']\n"
     ]
    }
   ],
   "source": [
    "df_normal = profile.GetTraceAsDF()\n",
    "pp.pprint(\"Files used in the application\")\n",
    "pp.pprint(df_normal['Filename'].unique().tolist())"
   ]
  },
  {
   "cell_type": "markdown",
   "metadata": {},
   "source": [
    "### Collect the summary of the Application"
   ]
  },
  {
   "cell_type": "code",
   "execution_count": 10,
   "metadata": {},
   "outputs": [
    {
     "name": "stdout",
     "output_type": "stream",
     "text": [
      "\n",
      "\n",
      "\u001b[1mData Access Summary (from Darshan):\u001b[0m\n",
      "Total Job time\t\t\t:\t1170.00 seconds\n",
      "Time spent in I/O\t\t:\t0.03 seconds\n",
      "% Time spent in I/O\t\t:\t0.00%\n",
      "Total Data Accessed\t\t:\t2.48 GB\n",
      "Data Access Modules used\t:\t['X_POSIX']\n",
      "Data Operations\t\t\t:\t['read']\n",
      "# of files used\t\t\t:\t2\n",
      "# of MPI Ranks\t\t\t:\t1 ranks\n",
      "\u001b[4mData Transfer size:\u001b[0m\n",
      "\tMin,Max\t\t\t:\t0 bytes and 231508 bytes\n",
      "\tAverage\t\t\t:\t46359 bytes\n",
      "\tMedian\t\t\t:\t0 bytes\n",
      "\u001b[4mData Transfer bandwidth: (per rank)\u001b[0m\n",
      "\tMin,Max\t\t\t:\t0 B/s and 16 MB/s\n",
      "\tAverage\t\t\t:\t3 MB/s\n",
      "\tMedian\t\t\t:\t0 MB/s\n",
      "\u001b[4mAccess Pattern:\u001b[0m\n",
      "\tSequential\t\t:\t60.00%\n",
      "\tConsecutive\t\t:\t60.00%\n",
      "\n",
      "\n",
      "\u001b[1mFiles Summary:\u001b[0m\n",
      "File Types\t\t\t:\t['json' 'txt']\n",
      "\u001b[4mDataset Size:\u001b[0m\n",
      "\tTotal\t\t\t:\t0.014 GB\n",
      "\tMin,Max\t\t\t:\t0.000 GB and 0.012 GB\n",
      "\tAverage\t\t\t:\t0.002 GB\n"
     ]
    }
   ],
   "source": [
    "summary = profile.GetSummary()\n",
    "print(\"\\n\")\n",
    "print(color.BOLD + \"Data Access Summary (from Darshan):\"+ color.END)\n",
    "print(\"Total Job time\\t\\t\\t:\\t{:0.2f} seconds\".format(summary['job_time']))\n",
    "#FIXME: calculate time per rank and then take max across it.\n",
    "print(\"Time spent in I/O\\t\\t:\\t{:0.2f} seconds\".format(summary['total_io_time']))\n",
    "print(\"% Time spent in I/O\\t\\t:\\t{:0.2f}%\".format(float(summary['total_io_time'])*100/summary['job_time']))\n",
    "print(\"Total Data Accessed\\t\\t:\\t{:0.2f} GB\".format(float(summary['total_io_bytes'])/1024.0/1024.0/1024.0))\n",
    "print(\"Data Access Modules used\\t:\\t{}\".format(summary['io_interface_used']))\n",
    "print(\"Data Operations\\t\\t\\t:\\t{}\".format(summary['io_operations_used']))\n",
    "print(\"# of files used\\t\\t\\t:\\t{}\".format(len(summary['files_used'])))\n",
    "print(\"# of MPI Ranks\\t\\t\\t:\\t{:0.0f} ranks\".format(summary['num_ranks']))\n",
    "      \n",
    "print(color.UNDERLINE + \"Data Transfer size:\"+ color.END)\n",
    "print(\"\\tMin,Max\\t\\t\\t:\\t{:0.0f} bytes and {:0.0f} bytes\".format(summary['data_transfer_size']['min'],summary['data_transfer_size']['max']))\n",
    "print(\"\\tAverage\\t\\t\\t:\\t{:0.0f} bytes\".format(summary['data_transfer_size']['mean']))\n",
    "print(\"\\tMedian\\t\\t\\t:\\t{:0.0f} bytes\".format(summary['data_transfer_size']['median']))\n",
    "      \n",
    "print(color.UNDERLINE + \"Data Transfer bandwidth: (per rank)\"+ color.END)\n",
    "print(\"\\tMin,Max\\t\\t\\t:\\t{:0.0f} B/s and {:0.0f} MB/s\".format(summary['data_transfer_bandwidth']['min'],summary['data_transfer_bandwidth']['max']/1024.0/1024.0))\n",
    "print(\"\\tAverage\\t\\t\\t:\\t{:0.0f} MB/s\".format(summary['data_transfer_bandwidth']['mean']/1024.0/1024.0))\n",
    "print(\"\\tMedian\\t\\t\\t:\\t{:0.0f} MB/s\".format(summary['data_transfer_bandwidth']['median']/1024.0/1024.0))\n",
    "      \n",
    "print(color.UNDERLINE + \"Access Pattern:\"+ color.END)\n",
    "print(\"\\tSequential\\t\\t:\\t{:0.2f}%\".format(float(summary['access_pattern']['sequential'])))\n",
    "print(\"\\tConsecutive\\t\\t:\\t{:0.2f}%\".format(float(summary['access_pattern']['consecutive'])))\n",
    "#An I/O op issued at an offset greater than where the previous I/O op ended.\n",
    "#An I/O op issued at the offset immediately after the end of the previous I/O\n",
    "\n",
    "print(\"\\n\")\n",
    "print(color.BOLD + \"Files Summary:\"+ color.END)\n",
    "print(\"File Types\\t\\t\\t:\\t{}\".format(summary['file_used_summary']['types']))\n",
    "print(color.UNDERLINE + \"Dataset Size:\"+ color.END)\n",
    "print(\"\\tTotal\\t\\t\\t:\\t{:0.3f} GB\".format(float(summary['file_used_summary']['size']['total'])/1024.0/1024.0/1024.0))\n",
    "print(\"\\tMin,Max\\t\\t\\t:\\t{:0.3f} GB and {:0.3f} GB\".format(float(summary['file_used_summary']['size']['min'])/1024.0/1024.0/1024.0,float(summary['file_used_summary']['size']['max'])/1024.0/1024.0/1024.0))\n",
    "print(\"\\tAverage\\t\\t\\t:\\t{:0.3f} GB\".format(float(summary['file_used_summary']['size']['mean'])/1024.0/1024.0/1024.0))"
   ]
  },
  {
   "cell_type": "code",
   "execution_count": 10,
   "metadata": {},
   "outputs": [
    {
     "name": "stdout",
     "output_type": "stream",
     "text": [
      "'Job time : 897.0 seconds'\n"
     ]
    }
   ],
   "source": [
    "pp.pprint(\"Job time : {} seconds\".format(profile.GetJobTime()))"
   ]
  },
  {
   "cell_type": "code",
   "execution_count": 14,
   "metadata": {},
   "outputs": [
    {
     "name": "stdout",
     "output_type": "stream",
     "text": [
      "'Time spent by application on I/O: 0.031299999999999994 seconds'\n"
     ]
    }
   ],
   "source": [
    "pp.pprint(\"Time spent by application on I/O: {} seconds\".format(profile.GetIOTime()))"
   ]
  },
  {
   "cell_type": "markdown",
   "metadata": {},
   "source": [
    "### I/O time spent on each file"
   ]
  },
  {
   "cell_type": "code",
   "execution_count": 15,
   "metadata": {},
   "outputs": [
    {
     "name": "stdout",
     "output_type": "stream",
     "text": [
      "I/O time for file /projects/datascience/dhari/datasets/bert/base/bert_config.json: 0.02 seconds\n",
      "I/O time for file /projects/datascience/dhari/datasets/bert/base/vocab.txt: 0.01 seconds\n"
     ]
    }
   ],
   "source": [
    "for file in df['Filename'].unique():\n",
    "    print(\"I/O time for file {}: {:0.2f} seconds\".format(file,profile.GetIOTime(filepath=file)))"
   ]
  },
  {
   "cell_type": "markdown",
   "metadata": {},
   "source": [
    "### I/O Time spent per rank"
   ]
  },
  {
   "cell_type": "code",
   "execution_count": 16,
   "metadata": {},
   "outputs": [
    {
     "name": "stdout",
     "output_type": "stream",
     "text": [
      "I/O time for rank 0: 0.03 seconds\n"
     ]
    }
   ],
   "source": [
    "for rank in df['Rank'].unique():\n",
    "    print(\"I/O time for rank {}: {:0.2f} seconds\".format(rank,profile.GetIOTime(rank=rank)))"
   ]
  },
  {
   "cell_type": "code",
   "execution_count": 17,
   "metadata": {},
   "outputs": [
    {
     "data": {
      "text/plain": [
       "'Total I/O performed by application: 2.48 GB'"
      ]
     },
     "execution_count": 17,
     "metadata": {},
     "output_type": "execute_result"
    }
   ],
   "source": [
    "\"Total I/O performed by application: {:0.2f} GB\".format(float(profile.GetIOSize())/1024.0/1024.0/1024.0)"
   ]
  },
  {
   "cell_type": "markdown",
   "metadata": {},
   "source": [
    "### I/O performed on each file"
   ]
  },
  {
   "cell_type": "code",
   "execution_count": 18,
   "metadata": {},
   "outputs": [
    {
     "name": "stdout",
     "output_type": "stream",
     "text": [
      "I/O performed on file /projects/datascience/dhari/datasets/bert/base/bert_config.json: 0.00 MB\n",
      "I/O performed on file /projects/datascience/dhari/datasets/bert/base/vocab.txt: 0.22 MB\n"
     ]
    }
   ],
   "source": [
    "for file in df['Filename'].unique():\n",
    "    print(\"I/O performed on file {}: {:0.2f} MB\".format(file,float(profile.GetIOSize(filepath=file))/1024.0/1024.0))"
   ]
  },
  {
   "cell_type": "code",
   "execution_count": 19,
   "metadata": {},
   "outputs": [
    {
     "name": "stdout",
     "output_type": "stream",
     "text": [
      "I/O performed by rank 0: 0.22 MB\n"
     ]
    }
   ],
   "source": [
    "for rank in df['Rank'].unique():\n",
    "    print(\"I/O performed by rank {}: {:0.2f} MB\".format(rank, float(profile.GetIOSize(rank=rank))/1024.0/1024.0))"
   ]
  },
  {
   "cell_type": "code",
   "execution_count": 20,
   "metadata": {},
   "outputs": [
    {
     "name": "stdout",
     "output_type": "stream",
     "text": [
      "Size of dataset (bytes)\n",
      "{'bert_config': 288.0,\n",
      " 'events.out.tfevents.1592669194': 12883219.0,\n",
      " 'model.ckpt-0': 22764.0,\n",
      " 'model.ckpt-2': 22764.0,\n",
      " 'train': 2104614.0,\n",
      " 'vocab': 231508.0}\n"
     ]
    }
   ],
   "source": [
    "print(\"Size of dataset (bytes)\")\n",
    "pp.pprint(profile.GetFileSizes())"
   ]
  },
  {
   "cell_type": "markdown",
   "metadata": {},
   "source": [
    "### How application access data over time."
   ]
  },
  {
   "cell_type": "code",
   "execution_count": 21,
   "metadata": {},
   "outputs": [
    {
     "name": "stdout",
     "output_type": "stream",
     "text": [
      "\r",
      "[============================================================] 100.0% 5 of 5 Creating Timeline \n"
     ]
    },
    {
     "data": {
      "image/png": "[encoded data removed]",
      "text/plain": [
       "<Figure size 576x288 with 1 Axes>"
      ]
     },
     "metadata": {
      "needs_background": "light"
     },
     "output_type": "display_data"
    }
   ],
   "source": [
    "tl = profile.CreateIOTimeline()\n",
    "plt.figure(figsize=(8,4))\n",
    "plt.grid()\n",
    "plt.ylabel(\"# of operations\")\n",
    "plt.xlabel(\"Timeline (ms)\")\n",
    "plt.plot(tl['time_step'], tl['operation_count']);"
   ]
  },
  {
   "cell_type": "code",
   "execution_count": 22,
   "metadata": {},
   "outputs": [
    {
     "data": {
      "image/png": "[encoded data removed]",
      "text/plain": [
       "<Figure size 576x288 with 1 Axes>"
      ]
     },
     "metadata": {
      "needs_background": "light"
     },
     "output_type": "display_data"
    }
   ],
   "source": [
    "plt.figure(figsize=(8,4))\n",
    "plt.grid()\n",
    "plt.ylabel(\"I/O performed (bytes)\")\n",
    "plt.xlabel(\"Timeline (ms)\")\n",
    "plt.plot(tl['time_step'], tl['io_bytes']);"
   ]
  },
  {
   "cell_type": "markdown",
   "metadata": {},
   "source": [
    "### How files are accessed over the duration of the Job."
   ]
  },
  {
   "cell_type": "code",
   "execution_count": 23,
   "metadata": {
    "scrolled": true
   },
   "outputs": [
    {
     "name": "stdout",
     "output_type": "stream",
     "text": [
      "\r",
      "[============================================================] 100.0% 2 of 2 Creating Timeline \n"
     ]
    },
    {
     "data": {
      "image/png": "[encoded data removed]",
      "text/plain": [
       "<Figure size 432x288 with 1 Axes>"
      ]
     },
     "metadata": {
      "needs_background": "light"
     },
     "output_type": "display_data"
    },
    {
     "name": "stdout",
     "output_type": "stream",
     "text": [
      "\r",
      "[============================================================] 100.0% 3 of 3 Creating Timeline \n"
     ]
    },
    {
     "data": {
      "image/png": "[encoded data removed]",
      "text/plain": [
       "<Figure size 432x288 with 1 Axes>"
      ]
     },
     "metadata": {
      "needs_background": "light"
     },
     "output_type": "display_data"
    }
   ],
   "source": [
    "for file in df['Filename'].unique():\n",
    "    tl = profile.CreateIOTimeline(filepath=file)\n",
    "    tl.plot(x='time_step',y='operation_count', title=file)\n",
    "    plt.show()"
   ]
  },
  {
   "cell_type": "markdown",
   "metadata": {},
   "source": [
    "### Show how each file is accessed by each rank."
   ]
  },
  {
   "cell_type": "code",
   "execution_count": 24,
   "metadata": {},
   "outputs": [
    {
     "name": "stdout",
     "output_type": "stream",
     "text": [
      "\r",
      "[============================================================] 100.0% 5 of 5 Creating Timeline \n"
     ]
    },
    {
     "data": {
      "image/png": "[encoded data removed]",
      "text/plain": [
       "<Figure size 432x288 with 1 Axes>"
      ]
     },
     "metadata": {
      "needs_background": "light"
     },
     "output_type": "display_data"
    }
   ],
   "source": [
    "for rank in df['Rank'].unique():\n",
    "    tl = profile.CreateIOTimeline(rank=rank)\n",
    "    tl.plot(x='time_step',y='operation_count', title=rank)\n",
    "    plt.show()"
   ]
  },
  {
   "cell_type": "markdown",
   "metadata": {},
   "source": [
    "### Data Transfer Size distribution within the application"
   ]
  },
  {
   "cell_type": "code",
   "execution_count": 25,
   "metadata": {},
   "outputs": [
    {
     "data": {
      "text/plain": [
       "Text(0.5, 0, 'Transfer Size (bytes)')"
      ]
     },
     "execution_count": 25,
     "metadata": {},
     "output_type": "execute_result"
    },
    {
     "data": {
      "image/png": "[encoded data removed]",
      "text/plain": [
       "<Figure size 360x216 with 1 Axes>"
      ]
     },
     "metadata": {
      "needs_background": "light"
     },
     "output_type": "display_data"
    }
   ],
   "source": [
    "request_df = profile.GetIORequestDistribution()\n",
    "df['Length'].plot(kind='hist', figsize=(5, 3), bins=100);\n",
    "plt.xlabel(\"Transfer Size (bytes)\")"
   ]
  },
  {
   "cell_type": "markdown",
   "metadata": {},
   "source": [
    "### Data Transfer Size distribution for each file."
   ]
  },
  {
   "cell_type": "code",
   "execution_count": 26,
   "metadata": {},
   "outputs": [
    {
     "data": {
      "image/png": "[encoded data removed]",
      "text/plain": [
       "<Figure size 720x288 with 1 Axes>"
      ]
     },
     "metadata": {
      "needs_background": "light"
     },
     "output_type": "display_data"
    },
    {
     "data": {
      "image/png": "[encoded data removed]",
      "text/plain": [
       "<Figure size 720x288 with 1 Axes>"
      ]
     },
     "metadata": {
      "needs_background": "light"
     },
     "output_type": "display_data"
    }
   ],
   "source": [
    "for file in df['Filename'].unique():\n",
    "    tl = profile.GetIORequestDistribution(filepath=file)\n",
    "    tl.plot(kind='bar', figsize=(10, 4), title=file)\n",
    "    plt.show()"
   ]
  },
  {
   "cell_type": "markdown",
   "metadata": {},
   "source": [
    "### Data Transfer Sizes per Rank"
   ]
  },
  {
   "cell_type": "code",
   "execution_count": 27,
   "metadata": {},
   "outputs": [
    {
     "data": {
      "image/png": "[encoded data removed]",
      "text/plain": [
       "<Figure size 720x288 with 1 Axes>"
      ]
     },
     "metadata": {
      "needs_background": "light"
     },
     "output_type": "display_data"
    }
   ],
   "source": [
    "for rank in df['Rank'].unique():\n",
    "    tl = profile.GetIORequestDistribution(rank=rank)\n",
    "    tl.plot(kind='bar', figsize=(10, 4), title=rank)\n",
    "    plt.show()"
   ]
  },
  {
   "cell_type": "markdown",
   "metadata": {},
   "source": [
    "### File summary of each file accessed by the Application"
   ]
  },
  {
   "cell_type": "code",
   "execution_count": 29,
   "metadata": {},
   "outputs": [
    {
     "name": "stdout",
     "output_type": "stream",
     "text": [
      "{'ext': 'json',\n",
      " 'filename': 'bert_config',\n",
      " 'io_size': 288,\n",
      " 'io_time': 0.017100000000000004,\n",
      " 'path': '/projects/datascience/dhari/datasets/bert/base/bert_config.json',\n",
      " 'size': 288,\n",
      " 'special': {}}\n",
      "{'ext': 'txt',\n",
      " 'filename': 'vocab',\n",
      " 'io_size': 231508,\n",
      " 'io_time': 0.01419999999999999,\n",
      " 'path': '/projects/datascience/dhari/datasets/bert/base/vocab.txt',\n",
      " 'size': 231508,\n",
      " 'special': {}}\n"
     ]
    }
   ],
   "source": [
    "pp = pprint.PrettyPrinter(indent=1)\n",
    "for file in df['Filename'].unique():\n",
    "    pp.pprint(profile.GetFileSummary(file))"
   ]
  },
  {
   "cell_type": "code",
   "execution_count": null,
   "metadata": {},
   "outputs": [],
   "source": []
  }
 ],
 "metadata": {
  "kernelspec": {
   "display_name": "Python 3",
   "language": "python",
   "name": "python3"
  },
  "language_info": {
   "codemirror_mode": {
    "name": "ipython",
    "version": 3
   },
   "file_extension": ".py",
   "mimetype": "text/x-python",
   "name": "python",
   "nbconvert_exporter": "python",
   "pygments_lexer": "ipython3",
   "version": "3.7.4"
  }
 },
 "nbformat": 4,
 "nbformat_minor": 2
}
