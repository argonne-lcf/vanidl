{
 "cells": [
  {
   "cell_type": "markdown",
   "metadata": {},
   "source": [
    "# DLProfile Example using FRNN"
   ]
  },
  {
   "cell_type": "markdown",
   "metadata": {},
   "source": [
    "## Set imports and neccessary environment variables"
   ]
  },
  {
   "cell_type": "code",
   "execution_count": 1,
   "metadata": {},
   "outputs": [],
   "source": [
    "import pathlib\n",
    "import os\n",
    "import sys\n",
    "import matplotlib.pyplot as plt\n",
    "import warnings\n",
    "import pprint\n",
    "import pandas"
   ]
  },
  {
   "cell_type": "code",
   "execution_count": 2,
   "metadata": {},
   "outputs": [],
   "source": [
    "VANIDL_DIR=\"{}\".format(pathlib.Path(os.getcwd()).parent.absolute())\n",
    "sys.path.insert(0, VANIDL_DIR)\n",
    "warnings.filterwarnings('ignore')"
   ]
  },
  {
   "cell_type": "code",
   "execution_count": 3,
   "metadata": {},
   "outputs": [],
   "source": [
    "os.environ[\"DARSHAN_DIR\"] = \"/soft/perftools/darshan/darshan-3.1.8\"\n",
    "os.environ[\"VANIDL_DIR\"] = VANIDL_DIR"
   ]
  },
  {
   "cell_type": "markdown",
   "metadata": {},
   "source": [
    "#### Formatting"
   ]
  },
  {
   "cell_type": "code",
   "execution_count": 4,
   "metadata": {},
   "outputs": [],
   "source": [
    "pp = pprint.PrettyPrinter(indent=1)\n",
    "class color:\n",
    "    PURPLE = '\\033[95m'\n",
    "    CYAN = '\\033[96m'\n",
    "    DARKCYAN = '\\033[36m'\n",
    "    BLUE = '\\033[94m'\n",
    "    GREEN = '\\033[92m'\n",
    "    YELLOW = '\\033[93m'\n",
    "    RED = '\\033[91m'\n",
    "    BOLD = '\\033[1m'\n",
    "    UNDERLINE = '\\033[4m'\n",
    "    END = '\\033[0m'"
   ]
  },
  {
   "cell_type": "markdown",
   "metadata": {},
   "source": [
    "## Create instrance of DL Profile and load the darshan file"
   ]
  },
  {
   "cell_type": "code",
   "execution_count": 5,
   "metadata": {},
   "outputs": [],
   "source": [
    "from src.vanidl import VaniDL\n",
    "profile = VaniDL()"
   ]
  },
  {
   "cell_type": "code",
   "execution_count": 10,
   "metadata": {},
   "outputs": [],
   "source": [
    "import shutil\n",
    "shutil.rmtree('/tmp/temp_analysis')"
   ]
  },
  {
   "cell_type": "code",
   "execution_count": 11,
   "metadata": {},
   "outputs": [
    {
     "name": "stdout",
     "output_type": "stream",
     "text": [
      "[============================================================] 100.0% 29574 of 29574 Parsing DXT File \n",
      "[============================================================] 100.0% 88151 of 88151 Parsing Darshan File \n",
      "Darshan Trace loaded Successfully!\n"
     ]
    }
   ],
   "source": [
    "\n",
    "DATAPATH_INCLUDES = []\n",
    "status = profile.Load(\"/home/dhari/darshan-logs/apps/frnn/frnn_run2_p8.darshan\", data_paths_include=DATAPATH_INCLUDES)\n",
    "if status:\n",
    "    print(\"Darshan Trace loaded Successfully!\")\n",
    "else:\n",
    "    print(\"Darshan Trace load Failed!\")\n",
    "    print(profile._error_str())"
   ]
  },
  {
   "cell_type": "markdown",
   "metadata": {},
   "source": [
    "## Use Profile object to analyze the darshan I/O trace."
   ]
  },
  {
   "cell_type": "markdown",
   "metadata": {},
   "source": [
    "### Verify if object works\n",
    "\n",
    "The GetDXTAsDF() function enables users to perform analysis "
   ]
  },
  {
   "cell_type": "code",
   "execution_count": 8,
   "metadata": {},
   "outputs": [
    {
     "name": "stdout",
     "output_type": "stream",
     "text": [
      "'Files used in the application'\n",
      "[]\n"
     ]
    }
   ],
   "source": [
    "df = profile.GetDXTAsDF()\n",
    "pp.pprint(\"Files used in the application\")\n",
    "pp.pprint(df['Filename'].unique().tolist())"
   ]
  },
  {
   "cell_type": "code",
   "execution_count": 9,
   "metadata": {},
   "outputs": [
    {
     "name": "stdout",
     "output_type": "stream",
     "text": [
      "'Files used in the application'\n",
      "['/projects/datascience/felker/Graph/events.out.tfevents.1592411340.nid03826',\n",
      " '<STDERR>',\n",
      " '/home/felker/FRNN_project/build/miniconda-3.7-4.7.12.1/miniconda3/4.7.12.1/ssl/openssl.cnf']\n"
     ]
    }
   ],
   "source": [
    "df_normal = profile.GetTraceAsDF()\n",
    "pp.pprint(\"Files used in the application\")\n",
    "pp.pprint(df_normal['Filename'].unique().tolist())"
   ]
  },
  {
   "cell_type": "markdown",
   "metadata": {},
   "source": [
    "### Collect the summary of the Application"
   ]
  },
  {
   "cell_type": "code",
   "execution_count": null,
   "metadata": {},
   "outputs": [],
   "source": [
    "summary = profile.GetSummary()\n",
    "print(\"\\n\")\n",
    "print(color.BOLD + \"Data Access Summary (from Darshan):\"+ color.END)\n",
    "print(\"Total Job time\\t\\t\\t:\\t{:0.2f} seconds\".format(summary['job_time']))\n",
    "#FIXME: calculate time per rank and then take max across it.\n",
    "print(\"Time spent in I/O\\t\\t:\\t{:0.2f} seconds\".format(summary['total_io_time']))\n",
    "print(\"% Time spent in I/O\\t\\t:\\t{:0.2f}%\".format(float(summary['total_io_time'])*100/summary['job_time']))\n",
    "print(\"Total Data Accessed\\t\\t:\\t{:0.2f} GB\".format(float(summary['total_io_bytes'])/1024.0/1024.0/1024.0))\n",
    "print(\"Data Access Modules used\\t:\\t{}\".format(summary['io_interface_used']))\n",
    "print(\"Data Operations\\t\\t\\t:\\t{}\".format(summary['io_operations_used']))\n",
    "print(\"# of files used\\t\\t\\t:\\t{}\".format(len(summary['files_used'])))\n",
    "print(\"# of MPI Ranks\\t\\t\\t:\\t{:0.0f} ranks\".format(summary['num_ranks']))\n",
    "      \n",
    "print(color.UNDERLINE + \"Data Transfer size:\"+ color.END)\n",
    "print(\"\\tMin,Max\\t\\t\\t:\\t{:0.0f} bytes and {:0.0f} bytes\".format(summary['data_transfer_size']['min'],summary['data_transfer_size']['max']))\n",
    "print(\"\\tAverage\\t\\t\\t:\\t{:0.0f} bytes\".format(summary['data_transfer_size']['mean']))\n",
    "print(\"\\tMedian\\t\\t\\t:\\t{:0.0f} bytes\".format(summary['data_transfer_size']['median']))\n",
    "      \n",
    "print(color.UNDERLINE + \"Data Transfer bandwidth: (per rank)\"+ color.END)\n",
    "print(\"\\tMin,Max\\t\\t\\t:\\t{:0.0f} B/s and {:0.0f} MB/s\".format(summary['data_transfer_bandwidth']['min'],summary['data_transfer_bandwidth']['max']/1024.0/1024.0))\n",
    "print(\"\\tAverage\\t\\t\\t:\\t{:0.0f} MB/s\".format(summary['data_transfer_bandwidth']['mean']/1024.0/1024.0))\n",
    "print(\"\\tMedian\\t\\t\\t:\\t{:0.0f} MB/s\".format(summary['data_transfer_bandwidth']['median']/1024.0/1024.0))\n",
    "      \n",
    "print(color.UNDERLINE + \"Access Pattern:\"+ color.END)\n",
    "print(\"\\tSequential\\t\\t:\\t{:0.2f}%\".format(float(summary['access_pattern']['sequential'])))\n",
    "print(\"\\tConsecutive\\t\\t:\\t{:0.2f}%\".format(float(summary['access_pattern']['consecutive'])))\n",
    "#An I/O op issued at an offset greater than where the previous I/O op ended.\n",
    "#An I/O op issued at the offset immediately after the end of the previous I/O\n",
    "\n",
    "print(\"\\n\")\n",
    "print(color.BOLD + \"Files Summary:\"+ color.END)\n",
    "print(\"File Types\\t\\t\\t:\\t{}\".format(summary['file_used_summary']['types']))\n",
    "print(color.UNDERLINE + \"Dataset Size:\"+ color.END)\n",
    "print(\"\\tTotal\\t\\t\\t:\\t{:0.3f} GB\".format(float(summary['file_used_summary']['size']['total'])/1024.0/1024.0/1024.0))\n",
    "print(\"\\tMin,Max\\t\\t\\t:\\t{:0.3f} GB and {:0.3f} GB\".format(float(summary['file_used_summary']['size']['min'])/1024.0/1024.0/1024.0,float(summary['file_used_summary']['size']['max'])/1024.0/1024.0/1024.0))\n",
    "print(\"\\tAverage\\t\\t\\t:\\t{:0.3f} GB\".format(float(summary['file_used_summary']['size']['mean'])/1024.0/1024.0/1024.0))"
   ]
  },
  {
   "cell_type": "code",
   "execution_count": null,
   "metadata": {},
   "outputs": [],
   "source": [
    "pp.pprint(\"Job time : {} seconds\".format(profile.GetJobTime()))"
   ]
  },
  {
   "cell_type": "code",
   "execution_count": null,
   "metadata": {},
   "outputs": [],
   "source": [
    "pp.pprint(\"Time spent by application on I/O: {} seconds\".format(profile.GetIOTime()))"
   ]
  },
  {
   "cell_type": "markdown",
   "metadata": {},
   "source": [
    "### I/O time spent on each file"
   ]
  },
  {
   "cell_type": "code",
   "execution_count": null,
   "metadata": {},
   "outputs": [],
   "source": [
    "for file in df_normal['Filename'].unique():\n",
    "    print(\"I/O time for file {}: {:0.2f} seconds\".format(file,profile.GetIOTime(filepath=file)))"
   ]
  },
  {
   "cell_type": "markdown",
   "metadata": {},
   "source": [
    "### I/O Time spent per rank"
   ]
  },
  {
   "cell_type": "code",
   "execution_count": null,
   "metadata": {},
   "outputs": [],
   "source": [
    "for rank in df['Rank'].unique():\n",
    "    print(\"I/O time for rank {}: {:0.2f} seconds\".format(rank,profile.GetIOTime(rank=rank)))"
   ]
  },
  {
   "cell_type": "code",
   "execution_count": null,
   "metadata": {},
   "outputs": [],
   "source": [
    "\"Total I/O performed by application: {:0.2f} GB\".format(float(profile.GetIOSize())/1024.0/1024.0/1024.0)"
   ]
  },
  {
   "cell_type": "markdown",
   "metadata": {},
   "source": [
    "### I/O performed on each file"
   ]
  },
  {
   "cell_type": "code",
   "execution_count": null,
   "metadata": {},
   "outputs": [],
   "source": [
    "for file in df['Filename'].unique():\n",
    "    print(\"I/O performed on file {}: {:0.2f} MB\".format(file,float(profile.GetIOSize(filepath=file))/1024.0/1024.0))"
   ]
  },
  {
   "cell_type": "code",
   "execution_count": null,
   "metadata": {},
   "outputs": [],
   "source": [
    "for rank in df['Rank'].unique():\n",
    "    print(\"I/O performed by rank {}: {:0.2f} MB\".format(rank, float(profile.GetIOSize(rank=rank))/1024.0/1024.0))"
   ]
  },
  {
   "cell_type": "code",
   "execution_count": null,
   "metadata": {},
   "outputs": [],
   "source": [
    "print(\"Size of dataset (bytes)\")\n",
    "pp.pprint(profile.GetFileSizes())"
   ]
  },
  {
   "cell_type": "markdown",
   "metadata": {},
   "source": [
    "### How application access data over time."
   ]
  },
  {
   "cell_type": "code",
   "execution_count": null,
   "metadata": {},
   "outputs": [],
   "source": [
    "tl = profile.CreateIOTimeline()\n",
    "plt.figure(figsize=(20,4))\n",
    "plt.grid()\n",
    "plt.plot(tl['time_step'], tl['operation_count']);"
   ]
  },
  {
   "cell_type": "code",
   "execution_count": null,
   "metadata": {},
   "outputs": [],
   "source": [
    "plt.figure(figsize=(20,4))\n",
    "plt.grid()\n",
    "plt.plot(tl['time_step'], tl['io_bytes']);"
   ]
  },
  {
   "cell_type": "markdown",
   "metadata": {},
   "source": [
    "### How files are accessed over the duration of the Job."
   ]
  },
  {
   "cell_type": "code",
   "execution_count": null,
   "metadata": {
    "scrolled": true
   },
   "outputs": [],
   "source": [
    "for file in df['Filename'].unique():\n",
    "    tl = profile.CreateIOTimeline(filepath=file)\n",
    "    tl.plot(x='time_step',y='operation_count', title=file)\n",
    "    plt.show()"
   ]
  },
  {
   "cell_type": "markdown",
   "metadata": {},
   "source": [
    "### Show how each file is accessed by each rank."
   ]
  },
  {
   "cell_type": "code",
   "execution_count": null,
   "metadata": {},
   "outputs": [],
   "source": [
    "for rank in df['Rank'].unique():\n",
    "    tl = profile.CreateIOTimeline(rank=rank)\n",
    "    tl.plot(x='time_step',y='operation_count', title=rank)\n",
    "    plt.show()"
   ]
  },
  {
   "cell_type": "markdown",
   "metadata": {},
   "source": [
    "### Data Transfer Size distribution within the application"
   ]
  },
  {
   "cell_type": "code",
   "execution_count": null,
   "metadata": {},
   "outputs": [],
   "source": [
    "request_df = profile.GetIORequestDistribution()\n",
    "request_df.plot(kind='bar', figsize=(10, 4));"
   ]
  },
  {
   "cell_type": "markdown",
   "metadata": {},
   "source": [
    "### Data Transfer Size distribution for each file."
   ]
  },
  {
   "cell_type": "code",
   "execution_count": null,
   "metadata": {},
   "outputs": [],
   "source": [
    "for file in df['Filename'].unique():\n",
    "    tl = profile.GetIORequestDistribution(filepath=file)\n",
    "    tl.plot(kind='bar', figsize=(10, 4), title=file)"
   ]
  },
  {
   "cell_type": "markdown",
   "metadata": {},
   "source": [
    "### Data Transfer Sizes per Rank"
   ]
  },
  {
   "cell_type": "code",
   "execution_count": null,
   "metadata": {},
   "outputs": [],
   "source": [
    "for rank in df['Rank'].unique():\n",
    "    tl = profile.GetIORequestDistribution(rank=rank)\n",
    "    tl.plot(kind='bar', figsize=(10, 4), title=rank)\n",
    "    plt.show()"
   ]
  },
  {
   "cell_type": "markdown",
   "metadata": {},
   "source": [
    "### File summary of each file accessed by the Application"
   ]
  },
  {
   "cell_type": "code",
   "execution_count": null,
   "metadata": {},
   "outputs": [],
   "source": [
    "pp = pprint.PrettyPrinter(indent=1)\n",
    "for file in df['Filename'].unique():\n",
    "    pp.pprint(profile.GetFileSummary(file,ext='h5'))"
   ]
  }
 ],
 "metadata": {
  "kernelspec": {
   "display_name": "Python 3",
   "language": "python",
   "name": "python3"
  },
  "language_info": {
   "codemirror_mode": {
    "name": "ipython",
    "version": 3
   },
   "file_extension": ".py",
   "mimetype": "text/x-python",
   "name": "python",
   "nbconvert_exporter": "python",
   "pygments_lexer": "ipython3",
   "version": "3.7.4"
  }
 },
 "nbformat": 4,
 "nbformat_minor": 2
}
