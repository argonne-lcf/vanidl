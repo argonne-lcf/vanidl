{
 "cells": [
  {
   "cell_type": "markdown",
   "metadata": {},
   "source": [
    "# DLProfile Example using mmaADSP Benchmark"
   ]
  },
  {
   "cell_type": "markdown",
   "metadata": {},
   "source": [
    "## Set imports and neccessary environment variables"
   ]
  },
  {
   "cell_type": "code",
   "execution_count": 1,
   "metadata": {},
   "outputs": [],
   "source": [
    "import pathlib\n",
    "import os\n",
    "import sys\n",
    "import matplotlib.pyplot as plt\n",
    "import warnings\n",
    "import pprint\n",
    "import pandas"
   ]
  },
  {
   "cell_type": "code",
   "execution_count": 2,
   "metadata": {},
   "outputs": [],
   "source": [
    "VANIDL_DIR=\"{}\".format(pathlib.Path(os.getcwd()).parent.absolute())\n",
    "sys.path.insert(0, VANIDL_DIR)\n",
    "warnings.filterwarnings('ignore')"
   ]
  },
  {
   "cell_type": "code",
   "execution_count": 3,
   "metadata": {},
   "outputs": [],
   "source": [
    "os.environ[\"DARSHAN_DIR\"] = \"/soft/perftools/darshan/darshan-3.1.8\"\n",
    "os.environ[\"VANIDL_DIR\"] = VANIDL_DIR"
   ]
  },
  {
   "cell_type": "markdown",
   "metadata": {},
   "source": [
    "#### Formatting"
   ]
  },
  {
   "cell_type": "code",
   "execution_count": 4,
   "metadata": {},
   "outputs": [],
   "source": [
    "pp = pprint.PrettyPrinter(indent=1)\n",
    "class color:\n",
    "    PURPLE = '\\033[95m'\n",
    "    CYAN = '\\033[96m'\n",
    "    DARKCYAN = '\\033[36m'\n",
    "    BLUE = '\\033[94m'\n",
    "    GREEN = '\\033[92m'\n",
    "    YELLOW = '\\033[93m'\n",
    "    RED = '\\033[91m'\n",
    "    BOLD = '\\033[1m'\n",
    "    UNDERLINE = '\\033[4m'\n",
    "    END = '\\033[0m'"
   ]
  },
  {
   "cell_type": "markdown",
   "metadata": {},
   "source": [
    "## Create instrance of DL Profile and load the darshan file"
   ]
  },
  {
   "cell_type": "code",
   "execution_count": 5,
   "metadata": {},
   "outputs": [],
   "source": [
    "from src.vanidl import VaniDL\n",
    "profile = VaniDL()"
   ]
  },
  {
   "cell_type": "code",
   "execution_count": 6,
   "metadata": {},
   "outputs": [
    {
     "name": "stdout",
     "output_type": "stream",
     "text": [
      "[============================================================] 100.0% 10187 of 10187 Parsing DXT File \n",
      "[============================================================] 100.0% 1090 of 1090 Parsing Darshan File \n",
      "Darshan Trace loaded Successfully!\n"
     ]
    }
   ],
   "source": [
    "\n",
    "DATAPATH_INCLUDES = []\n",
    "status = profile.Load(\"/home/dhari/darshan-logs/apps/mmaadsp/run2_p1.darshan\", data_paths_include=DATAPATH_INCLUDES)\n",
    "if status:\n",
    "    print(\"Darshan Trace loaded Successfully!\")\n",
    "else:\n",
    "    print(\"Darshan Trace load Failed!\")\n",
    "    print(profile._error_str())"
   ]
  },
  {
   "cell_type": "markdown",
   "metadata": {},
   "source": [
    "## Use Profile object to analyze the darshan I/O trace."
   ]
  },
  {
   "cell_type": "markdown",
   "metadata": {},
   "source": [
    "### Verify if object works\n",
    "\n",
    "The GetDXTAsDF() function enables users to perform analysis "
   ]
  },
  {
   "cell_type": "code",
   "execution_count": 7,
   "metadata": {},
   "outputs": [
    {
     "name": "stdout",
     "output_type": "stream",
     "text": [
      "'Files used in the application'\n",
      "['/tmp/1awwgss4',\n",
      " '/home/dhari/code/learnIO/benchmarks/mmaadsp_workload-master/SNR_interval_0.h5',\n",
      " '/dev/urandom',\n",
      " '/gpfs/mira-home/dhari/code/learnIO/benchmarks/mmaadsp_workload-master/Time_results.txt']\n"
     ]
    }
   ],
   "source": [
    "df = profile.GetDXTAsDF()\n",
    "pp.pprint(\"Files used in the application\")\n",
    "pp.pprint(df['Filename'].unique().tolist())"
   ]
  },
  {
   "cell_type": "code",
   "execution_count": 8,
   "metadata": {},
   "outputs": [
    {
     "name": "stdout",
     "output_type": "stream",
     "text": [
      "'Files used in the application'\n",
      "['/gpfs/mira-home/dhari/code/learnIO/benchmarks/mmaadsp_workload-master/Time_results.txt',\n",
      " '/home/dhari/code/learnIO/benchmarks/mmaadsp_workload-master/SNR_interval_0.h5',\n",
      " '/dev/urandom',\n",
      " '/dev/null',\n",
      " '/tmp/1awwgss4']\n"
     ]
    }
   ],
   "source": [
    "df_normal = profile.GetTraceAsDF()\n",
    "pp.pprint(\"Files used in the application\")\n",
    "pp.pprint(df_normal['Filename'].unique().tolist())"
   ]
  },
  {
   "cell_type": "markdown",
   "metadata": {},
   "source": [
    "### Collect the summary of the Application"
   ]
  },
  {
   "cell_type": "code",
   "execution_count": null,
   "metadata": {},
   "outputs": [],
   "source": []
  },
  {
   "cell_type": "raw",
   "metadata": {},
   "source": [
    "summary = profile.GetSummary()\n",
    "print(\"\\n\")\n",
    "print(color.BOLD + \"Data Access Summary (from Darshan):\"+ color.END)\n",
    "print(\"Total Job time\\t\\t\\t:\\t{:0.2f} seconds\".format(summary['job_time']))\n",
    "#FIXME: calculate time per rank and then take max across it.\n",
    "print(\"Time spent in I/O\\t\\t:\\t{:0.2f} seconds\".format(summary['total_io_time']/8))\n",
    "print(\"% Time spent in I/O\\t\\t:\\t{:0.2f}%\".format(float(summary['total_io_time'])/8*100/summary['job_time']))\n",
    "print(\"Total Data Accessed\\t\\t:\\t{:0.2f} GB\".format(float(summary['total_io_bytes'])/1024.0/1024.0/1024.0))\n",
    "print(\"Data Access Modules used\\t:\\t{}\".format(summary['io_interface_used']))\n",
    "print(\"Data Operations\\t\\t\\t:\\t{}\".format(summary['io_operations_used']))\n",
    "print(\"# of files used\\t\\t\\t:\\t{}\".format(len(summary['files_used'])))\n",
    "print(\"# of MPI Ranks\\t\\t\\t:\\t{:0.0f} ranks\".format(summary['num_ranks']))\n",
    "      \n",
    "print(color.UNDERLINE + \"Data Transfer size:\"+ color.END)\n",
    "print(\"\\tMin,Max\\t\\t\\t:\\t{:0.0f} bytes and {:0.0f} bytes\".format(summary['data_transfer_size']['min'],summary['data_transfer_size']['max']))\n",
    "print(\"\\tAverage\\t\\t\\t:\\t{:0.0f} bytes\".format(summary['data_transfer_size']['mean']))\n",
    "print(\"\\tMedian\\t\\t\\t:\\t{:0.0f} bytes\".format(summary['data_transfer_size']['median']))\n",
    "      \n",
    "print(color.UNDERLINE + \"Data Transfer bandwidth: (per rank)\"+ color.END)\n",
    "print(\"\\tMin,Max\\t\\t\\t:\\t{:0.0f} B/s and {:0.0f} MB/s\".format(summary['data_transfer_bandwidth']['min'],summary['data_transfer_bandwidth']['max']/1024.0/1024.0))\n",
    "print(\"\\tAverage\\t\\t\\t:\\t{:0.0f} MB/s\".format(summary['data_transfer_bandwidth']['mean']/1024.0/1024.0))\n",
    "print(\"\\tMedian\\t\\t\\t:\\t{:0.0f} MB/s\".format(summary['data_transfer_bandwidth']['median']/1024.0/1024.0))\n",
    "      \n",
    "print(color.UNDERLINE + \"Access Pattern:\"+ color.END)\n",
    "print(\"\\tSequential\\t\\t:\\t{:0.2f}%\".format(float(summary['access_pattern']['sequential'])))\n",
    "print(\"\\tConsecutive\\t\\t:\\t{:0.2f}%\".format(float(summary['access_pattern']['consecutive'])))\n",
    "#An I/O op issued at an offset greater than where the previous I/O op ended.\n",
    "#An I/O op issued at the offset immediately after the end of the previous I/O\n",
    "\n",
    "print(\"\\n\")\n",
    "print(color.BOLD + \"Files Summary:\"+ color.END)\n",
    "print(\"File Types\\t\\t\\t:\\t{}\".format(summary['file_used_summary']['types']))\n",
    "print(color.UNDERLINE + \"Dataset Size:\"+ color.END)\n",
    "print(\"\\tTotal\\t\\t\\t:\\t{:0.1f} GB\".format(32))\n",
    "print(\"\\tMin,Max\\t\\t\\t:\\t{:0.1f} GB and {:0.1f} GB\".format(2,2))\n",
    "print(\"\\tAverage\\t\\t\\t:\\t{:0.1f} GB\".format(2))"
   ]
  },
  {
   "cell_type": "code",
   "execution_count": 10,
   "metadata": {},
   "outputs": [
    {
     "name": "stdout",
     "output_type": "stream",
     "text": [
      "'Job time : 850.0 seconds'\n"
     ]
    }
   ],
   "source": [
    "pp.pprint(\"Job time : {} seconds\".format(profile.GetJobTime()))"
   ]
  },
  {
   "cell_type": "code",
   "execution_count": 11,
   "metadata": {},
   "outputs": [
    {
     "name": "stdout",
     "output_type": "stream",
     "text": [
      "'Time spent by application on I/O: 0.7134250000002273 seconds'\n"
     ]
    }
   ],
   "source": [
    "pp.pprint(\"Time spent by application on I/O: {} seconds\".format(profile.GetIOTime()/8))"
   ]
  },
  {
   "cell_type": "markdown",
   "metadata": {},
   "source": [
    "### I/O time spent on each file"
   ]
  },
  {
   "cell_type": "code",
   "execution_count": 12,
   "metadata": {},
   "outputs": [
    {
     "name": "stdout",
     "output_type": "stream",
     "text": [
      "I/O time for file /tmp/1awwgss4: 0.00 seconds\n",
      "I/O time for file /home/dhari/code/learnIO/benchmarks/mmaadsp_workload-master/SNR_interval_0.h5: 5.69 seconds\n",
      "I/O time for file /dev/urandom: 0.01 seconds\n",
      "I/O time for file /gpfs/mira-home/dhari/code/learnIO/benchmarks/mmaadsp_workload-master/Time_results.txt: 0.01 seconds\n"
     ]
    }
   ],
   "source": [
    "for file in df['Filename'].unique():\n",
    "    print(\"I/O time for file {}: {:0.2f} seconds\".format(file,profile.GetIOTime(filepath=file)))"
   ]
  },
  {
   "cell_type": "markdown",
   "metadata": {},
   "source": [
    "### I/O Time spent per rank"
   ]
  },
  {
   "cell_type": "code",
   "execution_count": 13,
   "metadata": {},
   "outputs": [
    {
     "name": "stdout",
     "output_type": "stream",
     "text": [
      "I/O time for rank 0: 5.71 seconds\n"
     ]
    }
   ],
   "source": [
    "for rank in df['Rank'].unique():\n",
    "    print(\"I/O time for rank {}: {:0.2f} seconds\".format(rank,profile.GetIOTime(rank=rank)))"
   ]
  },
  {
   "cell_type": "code",
   "execution_count": 14,
   "metadata": {},
   "outputs": [
    {
     "data": {
      "text/plain": [
       "'Total I/O performed by application: 0.61 GB'"
      ]
     },
     "execution_count": 14,
     "metadata": {},
     "output_type": "execute_result"
    }
   ],
   "source": [
    "\"Total I/O performed by application: {:0.2f} GB\".format(float(profile.GetIOSize())/1024.0/1024.0/1024.0)"
   ]
  },
  {
   "cell_type": "markdown",
   "metadata": {},
   "source": [
    "### I/O performed on each file"
   ]
  },
  {
   "cell_type": "code",
   "execution_count": 15,
   "metadata": {},
   "outputs": [
    {
     "name": "stdout",
     "output_type": "stream",
     "text": [
      "I/O performed on file /tmp/1awwgss4: 0.00 MB\n",
      "I/O performed on file /home/dhari/code/learnIO/benchmarks/mmaadsp_workload-master/SNR_interval_0.h5: 625.38 MB\n",
      "I/O performed on file /dev/urandom: 0.04 MB\n",
      "I/O performed on file /gpfs/mira-home/dhari/code/learnIO/benchmarks/mmaadsp_workload-master/Time_results.txt: 0.00 MB\n"
     ]
    }
   ],
   "source": [
    "for file in df['Filename'].unique():\n",
    "    print(\"I/O performed on file {}: {:0.2f} MB\".format(file,float(profile.GetIOSize(filepath=file))/1024.0/1024.0))"
   ]
  },
  {
   "cell_type": "code",
   "execution_count": 16,
   "metadata": {},
   "outputs": [
    {
     "name": "stdout",
     "output_type": "stream",
     "text": [
      "I/O performed by rank 0: 625.42 MB\n"
     ]
    }
   ],
   "source": [
    "for rank in df['Rank'].unique():\n",
    "    print(\"I/O performed by rank {}: {:0.2f} MB\".format(rank, float(profile.GetIOSize(rank=rank))/1024.0/1024.0))"
   ]
  },
  {
   "cell_type": "code",
   "execution_count": 17,
   "metadata": {},
   "outputs": [
    {
     "name": "stdout",
     "output_type": "stream",
     "text": [
      "Size of dataset (bytes)\n",
      "{'SNR_interval_0': 655762048.0,\n",
      " 'Time_results': 582.0,\n",
      " 'null': 0.0,\n",
      " 'urandom': 0.0}\n"
     ]
    }
   ],
   "source": [
    "print(\"Size of dataset (bytes)\")\n",
    "pp.pprint(profile.GetFileSizes())"
   ]
  },
  {
   "cell_type": "code",
   "execution_count": 18,
   "metadata": {},
   "outputs": [
    {
     "name": "stdout",
     "output_type": "stream",
     "text": [
      "-rw-r----- 1 memani MLPerfHPC 2147490944 Feb 12  2019 /lus/theta-fs0/projects/MLPerfHPC/cosmoflow/dataset/cosmoUniverse_2019_02_4parE/dim128_cube_nT4/cosmoUniverse_2019_02_4parE-dim128_cube_nT4-rec1003.tfrecords\r\n"
     ]
    }
   ],
   "source": [
    "file=\"/lus/theta-fs0/projects/MLPerfHPC/cosmoflow/dataset/cosmoUniverse_2019_02_4parE/dim128_cube_nT4/cosmoUniverse_2019_02_4parE-dim128_cube_nT4-rec1003.tfrecords\"\n",
    "!ls -l $file"
   ]
  },
  {
   "cell_type": "markdown",
   "metadata": {},
   "source": [
    "### How application access data over time."
   ]
  },
  {
   "cell_type": "code",
   "execution_count": 19,
   "metadata": {},
   "outputs": [
    {
     "name": "stdout",
     "output_type": "stream",
     "text": [
      "[============================================================] 100.0% 10030 of 10030 Creating Timeline \n"
     ]
    },
    {
     "data": {
      "image/png": "[encoded data removed]",
      "text/plain": [
       "<Figure size 576x288 with 1 Axes>"
      ]
     },
     "metadata": {
      "needs_background": "light"
     },
     "output_type": "display_data"
    }
   ],
   "source": [
    "tl = profile.CreateIOTimeline(time_step=0.001)\n",
    "plt.figure(figsize=(8,4))\n",
    "plt.xlabel(\"Timeline (ms)\")\n",
    "plt.ylabel(\"# of I/O Operations\")\n",
    "plt.grid()\n",
    "plt.plot(tl['time_step'], tl['operation_count']);"
   ]
  },
  {
   "cell_type": "code",
   "execution_count": 20,
   "metadata": {},
   "outputs": [
    {
     "data": {
      "image/png": "[encoded data removed]",
      "text/plain": [
       "<Figure size 576x288 with 1 Axes>"
      ]
     },
     "metadata": {
      "needs_background": "light"
     },
     "output_type": "display_data"
    }
   ],
   "source": [
    "plt.figure(figsize=(8,4))\n",
    "plt.xlabel(\"Timeline (ms)\")\n",
    "plt.ylabel(\"I/O Performed (bytes)\")\n",
    "plt.grid()\n",
    "plt.plot(tl['time_step'], tl['io_bytes']);"
   ]
  },
  {
   "cell_type": "markdown",
   "metadata": {},
   "source": [
    "### How files are accessed over the duration of the Job."
   ]
  },
  {
   "cell_type": "code",
   "execution_count": 21,
   "metadata": {
    "scrolled": true
   },
   "outputs": [
    {
     "name": "stdout",
     "output_type": "stream",
     "text": [
      "\n",
      "\r",
      "[============================================================] 100.0% 1 of 1 Creating Timeline \n"
     ]
    },
    {
     "data": {
      "image/png": "[encoded data removed]",
      "text/plain": [
       "<Figure size 432x288 with 1 Axes>"
      ]
     },
     "metadata": {
      "needs_background": "light"
     },
     "output_type": "display_data"
    },
    {
     "name": "stdout",
     "output_type": "stream",
     "text": [
      "[============================================================] 100.0% 10016 of 10016 Creating Timeline \n"
     ]
    },
    {
     "data": {
      "image/png": "[encoded data removed]",
      "text/plain": [
       "<Figure size 432x288 with 1 Axes>"
      ]
     },
     "metadata": {
      "needs_background": "light"
     },
     "output_type": "display_data"
    },
    {
     "name": "stdout",
     "output_type": "stream",
     "text": [
      "\r",
      "[============================================================] 100.0% 3 of 3 Creating Timeline \n"
     ]
    },
    {
     "data": {
      "image/png": "[encoded data removed]",
      "text/plain": [
       "<Figure size 432x288 with 1 Axes>"
      ]
     },
     "metadata": {
      "needs_background": "light"
     },
     "output_type": "display_data"
    },
    {
     "name": "stdout",
     "output_type": "stream",
     "text": [
      "\r",
      "[============================================================] 100.0% 10 of 10 Creating Timeline \n"
     ]
    },
    {
     "data": {
      "image/png": "[encoded data removed]",
      "text/plain": [
       "<Figure size 432x288 with 1 Axes>"
      ]
     },
     "metadata": {
      "needs_background": "light"
     },
     "output_type": "display_data"
    }
   ],
   "source": [
    "for file in df['Filename'].unique():\n",
    "    tl = profile.CreateIOTimeline(filepath=file,time_step=0.001)\n",
    "    tl.plot(x='time_step',y='operation_count', title=file)\n",
    "    plt.show()"
   ]
  },
  {
   "cell_type": "markdown",
   "metadata": {},
   "source": [
    "### Show how each file is accessed by each rank."
   ]
  },
  {
   "cell_type": "code",
   "execution_count": 22,
   "metadata": {},
   "outputs": [
    {
     "name": "stdout",
     "output_type": "stream",
     "text": [
      "[============================================================] 100.0% 10030 of 10030 Creating Timeline \n"
     ]
    },
    {
     "data": {
      "image/png": "[encoded data removed]",
      "text/plain": [
       "<Figure size 432x288 with 1 Axes>"
      ]
     },
     "metadata": {
      "needs_background": "light"
     },
     "output_type": "display_data"
    }
   ],
   "source": [
    "for rank in df['Rank'].unique():\n",
    "    tl = profile.CreateIOTimeline(rank=rank, time_step = 0.001)\n",
    "    tl.plot(x='time_step',y='operation_count', title=rank)\n",
    "    plt.show()"
   ]
  },
  {
   "cell_type": "markdown",
   "metadata": {},
   "source": [
    "### Data Transfer Size distribution within the application"
   ]
  },
  {
   "cell_type": "code",
   "execution_count": 23,
   "metadata": {},
   "outputs": [
    {
     "data": {
      "text/plain": [
       "Text(0.5, 0, 'Transfer Size (bytes)')"
      ]
     },
     "execution_count": 23,
     "metadata": {},
     "output_type": "execute_result"
    },
    {
     "data": {
      "image/png": "[encoded data removed]",
      "text/plain": [
       "<Figure size 360x216 with 1 Axes>"
      ]
     },
     "metadata": {
      "needs_background": "light"
     },
     "output_type": "display_data"
    }
   ],
   "source": [
    "request_df = profile.GetIORequestDistribution()\n",
    "df['Length'].plot(kind='hist', figsize=(5, 3));\n",
    "plt.xlabel(\"Transfer Size (bytes)\")"
   ]
  },
  {
   "cell_type": "markdown",
   "metadata": {},
   "source": [
    "### Data Transfer Size distribution for each file."
   ]
  },
  {
   "cell_type": "code",
   "execution_count": 24,
   "metadata": {},
   "outputs": [
    {
     "data": {
      "image/png": "[encoded data removed]",
      "text/plain": [
       "<Figure size 720x288 with 1 Axes>"
      ]
     },
     "metadata": {
      "needs_background": "light"
     },
     "output_type": "display_data"
    }
   ],
   "source": [
    "for file in df['Filename'].unique():\n",
    "    tl = profile.GetIORequestDistribution(filepath=file)\n",
    "    tl.plot(kind='bar', figsize=(10, 4), title=file)"
   ]
  },
  {
   "cell_type": "markdown",
   "metadata": {},
   "source": [
    "### Data Transfer Sizes per Rank"
   ]
  },
  {
   "cell_type": "code",
   "execution_count": 25,
   "metadata": {},
   "outputs": [
    {
     "data": {
      "image/png": "[encoded data removed]",
      "text/plain": [
       "<Figure size 720x288 with 1 Axes>"
      ]
     },
     "metadata": {
      "needs_background": "light"
     },
     "output_type": "display_data"
    }
   ],
   "source": [
    "for rank in df['Rank'].unique():\n",
    "    tl = profile.GetIORequestDistribution(rank=rank)\n",
    "    tl.plot(kind='bar', figsize=(10, 4), title=rank)\n",
    "    plt.show()"
   ]
  },
  {
   "cell_type": "markdown",
   "metadata": {},
   "source": [
    "### File summary of each file accessed by the Application"
   ]
  },
  {
   "cell_type": "code",
   "execution_count": 28,
   "metadata": {},
   "outputs": [
    {
     "name": "stdout",
     "output_type": "stream",
     "text": [
      "{'ext': 'h5',\n",
      " 'filename': 'SNR_interval_0',\n",
      " 'io_size': 655763120,\n",
      " 'io_time': 5.692400000001754,\n",
      " 'path': '/home/dhari/code/learnIO/benchmarks/mmaadsp_workload-master/SNR_interval_0.h5',\n",
      " 'size': 655762048,\n",
      " 'special': {'keys': [{'name': 'train_data',\n",
      "                       'obj': <HDF5 dataset \"train_data\": shape (10000, 8192), type \"<f8\">,\n",
      "                       'shape': (10000, 8192),\n",
      "                       'size': 81920000,\n",
      "                       'type': 'dataset'},\n",
      "                      {'name': 'train_label',\n",
      "                       'obj': <HDF5 dataset \"train_label\": shape (10000, 5), type \"<f8\">,\n",
      "                       'shape': (10000, 5),\n",
      "                       'size': 50000,\n",
      "                       'type': 'dataset'}],\n",
      "             'name': 'SNR_interval_0',\n",
      "             'type': 'group'}}\n",
      "{'ext': '/dev/urandom',\n",
      " 'filename': 'urandom',\n",
      " 'io_size': 40714,\n",
      " 'io_time': 0.00929999999999609,\n",
      " 'path': '/dev/urandom',\n",
      " 'size': 0,\n",
      " 'special': {}}\n",
      "{'ext': 'txt',\n",
      " 'filename': 'Time_results',\n",
      " 'io_size': 582,\n",
      " 'io_time': 0.005600000000072214,\n",
      " 'path': '/gpfs/mira-home/dhari/code/learnIO/benchmarks/mmaadsp_workload-master/Time_results.txt',\n",
      " 'size': 582,\n",
      " 'special': {}}\n"
     ]
    }
   ],
   "source": [
    "pp = pprint.PrettyPrinter(indent=1)\n",
    "for file in df['Filename'].unique():\n",
    "    if os.path.exists(file):\n",
    "        pp.pprint(profile.GetFileSummary(file))"
   ]
  },
  {
   "cell_type": "code",
   "execution_count": null,
   "metadata": {},
   "outputs": [],
   "source": []
  }
 ],
 "metadata": {
  "kernelspec": {
   "display_name": "Python 3",
   "language": "python",
   "name": "python3"
  },
  "language_info": {
   "codemirror_mode": {
    "name": "ipython",
    "version": 3
   },
   "file_extension": ".py",
   "mimetype": "text/x-python",
   "name": "python",
   "nbconvert_exporter": "python",
   "pygments_lexer": "ipython3",
   "version": "3.7.4"
  }
 },
 "nbformat": 4,
 "nbformat_minor": 2
}
