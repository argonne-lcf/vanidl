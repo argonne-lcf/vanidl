{
 "cells": [
  {
   "cell_type": "markdown",
   "metadata": {},
   "source": [
    "# DLProfile Example using l2hmc-qcd"
   ]
  },
  {
   "cell_type": "markdown",
   "metadata": {},
   "source": [
    "## Set imports and neccessary environment variables"
   ]
  },
  {
   "cell_type": "code",
   "execution_count": 22,
   "metadata": {},
   "outputs": [],
   "source": [
    "import pathlib\n",
    "import os\n",
    "import sys\n",
    "import matplotlib.pyplot as plt\n",
    "import warnings\n",
    "import pprint\n",
    "import pandas\n",
    "import ntpath"
   ]
  },
  {
   "cell_type": "code",
   "execution_count": 2,
   "metadata": {},
   "outputs": [],
   "source": [
    "VANIDL_DIR=\"{}\".format(pathlib.Path(os.getcwd()).parent.absolute())\n",
    "sys.path.insert(0, VANIDL_DIR)\n",
    "warnings.filterwarnings('ignore')"
   ]
  },
  {
   "cell_type": "code",
   "execution_count": 3,
   "metadata": {},
   "outputs": [],
   "source": [
    "os.environ[\"DARSHAN_DIR\"] = \"/soft/perftools/darshan/darshan-3.1.8\"\n",
    "os.environ[\"VANIDL_DIR\"] = VANIDL_DIR"
   ]
  },
  {
   "cell_type": "markdown",
   "metadata": {},
   "source": [
    "#### Formatting"
   ]
  },
  {
   "cell_type": "code",
   "execution_count": 4,
   "metadata": {},
   "outputs": [],
   "source": [
    "pp = pprint.PrettyPrinter(indent=1)\n",
    "class color:\n",
    "    PURPLE = '\\033[95m'\n",
    "    CYAN = '\\033[96m'\n",
    "    DARKCYAN = '\\033[36m'\n",
    "    BLUE = '\\033[94m'\n",
    "    GREEN = '\\033[92m'\n",
    "    YELLOW = '\\033[93m'\n",
    "    RED = '\\033[91m'\n",
    "    BOLD = '\\033[1m'\n",
    "    UNDERLINE = '\\033[4m'\n",
    "    END = '\\033[0m'"
   ]
  },
  {
   "cell_type": "markdown",
   "metadata": {},
   "source": [
    "## Create instrance of DL Profile and load the darshan file"
   ]
  },
  {
   "cell_type": "code",
   "execution_count": 5,
   "metadata": {},
   "outputs": [],
   "source": [
    "from src.vanidl import VaniDL\n",
    "profile = VaniDL()"
   ]
  },
  {
   "cell_type": "code",
   "execution_count": 6,
   "metadata": {},
   "outputs": [],
   "source": [
    "#import shutil\n",
    "#shutil.rmtree('/tmp/temp_analysis')"
   ]
  },
  {
   "cell_type": "code",
   "execution_count": 7,
   "metadata": {},
   "outputs": [
    {
     "name": "stdout",
     "output_type": "stream",
     "text": [
      "Loaded Pre-processed DXT DF from file: /tmp/temp_analysis/l2hmc_run2_p8_io_dxt_df.csv\n",
      "Loaded Pre-processed DF from file: /tmp/temp_analysis/l2hmc_run2_p8_io_df.csv\n",
      "Loaded Pre-processed Pattern file: /tmp/temp_analysis/l2hmc_run2_p8_pattern.json\n",
      "Darshan Trace loaded Successfully!\n"
     ]
    }
   ],
   "source": [
    "\n",
    "DATAPATH_INCLUDES = []\n",
    "status = profile.Load(\"/home/dhari/darshan-logs/apps/l2hmc-qcd/l2hmc_run2_p8.darshan\", data_paths_include=DATAPATH_INCLUDES)\n",
    "if status:\n",
    "    print(\"Darshan Trace loaded Successfully!\")\n",
    "else:\n",
    "    print(\"Darshan Trace load Failed!\")\n",
    "    print(profile._error_str())"
   ]
  },
  {
   "cell_type": "markdown",
   "metadata": {},
   "source": [
    "## Use Profile object to analyze the darshan I/O trace."
   ]
  },
  {
   "cell_type": "markdown",
   "metadata": {},
   "source": [
    "### Verify if object works\n",
    "\n",
    "The GetDXTAsDF() function enables users to perform analysis "
   ]
  },
  {
   "cell_type": "code",
   "execution_count": 8,
   "metadata": {},
   "outputs": [
    {
     "name": "stdout",
     "output_type": "stream",
     "text": [
      "'Files used in the application'\n",
      "[]\n"
     ]
    }
   ],
   "source": [
    "df = profile.GetDXTAsDF()\n",
    "pp.pprint(\"Files used in the application\")\n",
    "pp.pprint(df['Filename'].unique().tolist())"
   ]
  },
  {
   "cell_type": "code",
   "execution_count": 9,
   "metadata": {},
   "outputs": [
    {
     "name": "stdout",
     "output_type": "stream",
     "text": [
      "'Files used in the application'\n",
      "['/gpfs/mira-home/dhari/code/learnIO/benchmarks/l2hmc-qcd/gauge_logs/2020_06_11/DEBUG_L16_b32_lf2_GaugeNetwork_aw00_qw01_dp025_f32_1909_1/checkpoints/checkpoint.tmp1aba5788d2bb4894a770124815ccea57',\n",
      " '/gpfs/mira-home/dhari/code/learnIO/benchmarks/l2hmc-qcd/gauge_logs/2020_06_11/DEBUG_L16_b32_lf2_GaugeNetwork_aw00_qw01_dp025_f32_1909_1/checkpoints/graph.pbtxt.tmpa14255dbe3834f45b758ec4703bc9b6d',\n",
      " '/gpfs/mira-home/dhari/code/learnIO/benchmarks/l2hmc-qcd/gauge_logs/2020_06_11/DEBUG_L16_b32_lf2_GaugeNetwork_aw00_qw01_dp025_f32_1909_1/checkpoints/model.ckpt-45_temp_6770bba4db834b5a9ef640a844920dde/part-00000-of-00001.data-00000-of-00001.tempstate6307127464834357184',\n",
      " '/gpfs/mira-home/dhari/code/learnIO/benchmarks/l2hmc-qcd/gauge_logs/2020_06_11/DEBUG_L16_b32_lf2_GaugeNetwork_aw00_qw01_dp025_f32_1909_1/checkpoints/model.ckpt-75.index',\n",
      " '/gpfs/mira-home/dhari/code/learnIO/benchmarks/l2hmc-qcd/gauge_logs/2020_06_11/DEBUG_L16_b32_lf2_GaugeNetwork_aw00_qw01_dp025_f32_1909_1/checkpoints/checkpoint.tmp05c56c64574344d2b88ee58cd661cb0a',\n",
      " '/gpfs/mira-home/dhari/code/learnIO/benchmarks/l2hmc-qcd/gauge_logs/2020_06_11/DEBUG_L16_b32_lf2_GaugeNetwork_aw00_qw01_dp025_f32_1909_1/checkpoints/checkpoint.tmpafa9118f89a34350994521602b4856ca',\n",
      " '/gpfs/mira-home/dhari/code/learnIO/benchmarks/l2hmc-qcd/gauge_logs/2020_06_11/DEBUG_L16_b32_lf2_GaugeNetwork_aw00_qw01_dp025_f32_1909_1/checkpoints/model.ckpt-0.index',\n",
      " '/gpfs/mira-home/dhari/code/learnIO/benchmarks/l2hmc-qcd/gauge_logs/2020_06_11/DEBUG_L16_b32_lf2_GaugeNetwork_aw00_qw01_dp025_f32_1909_1/checkpoints/model.ckpt-15_temp_6770bba4db834b5a9ef640a844920dde/part-00000-of-00001.data-00000-of-00001.tempstate9804660416386708781',\n",
      " '/gpfs/mira-home/dhari/code/learnIO/benchmarks/l2hmc-qcd/gauge_logs/2020_06_11/DEBUG_L16_b32_lf2_GaugeNetwork_aw00_qw01_dp025_f32_1909_1/checkpoints/model.ckpt-90.index',\n",
      " '/gpfs/mira-home/dhari/code/learnIO/benchmarks/l2hmc-qcd/gauge_logs/2020_06_11/DEBUG_L16_b32_lf2_GaugeNetwork_aw00_qw01_dp025_f32_1909_1/checkpoints/model.ckpt-45.index',\n",
      " '/gpfs/mira-home/dhari/code/learnIO/benchmarks/l2hmc-qcd/gauge_logs/2020_06_11/DEBUG_L16_b32_lf2_GaugeNetwork_aw00_qw01_dp025_f32_1909_1/checkpoints/model.ckpt-105_temp_6770bba4db834b5a9ef640a844920dde/part-00000-of-00001.index.tempstate16077201702985775298',\n",
      " '/gpfs/mira-home/dhari/code/learnIO/benchmarks/l2hmc-qcd/gauge_logs/2020_06_11/DEBUG_L16_b32_lf2_GaugeNetwork_aw00_qw01_dp025_f32_1909_1/checkpoints/model.ckpt-90_temp_6770bba4db834b5a9ef640a844920dde/part-00000-of-00001.index.tempstate4489253541929235252',\n",
      " '/gpfs/mira-home/dhari/code/learnIO/benchmarks/l2hmc-qcd/gauge_logs/2020_06_11/DEBUG_L16_b32_lf2_GaugeNetwork_aw00_qw01_dp025_f32_1909_1/checkpoints/model.ckpt-90.meta.tmpa12b5e47aa69440ebbe92d09841dc217',\n",
      " '/gpfs/mira-home/dhari/code/learnIO/benchmarks/l2hmc-qcd/gauge_logs/2020_06_11/DEBUG_L16_b32_lf2_GaugeNetwork_aw00_qw01_dp025_f32_1909_1/checkpoints/checkpoint.tmpb4b197e144a048a79ccb319c73a26e65',\n",
      " '/gpfs/mira-home/dhari/code/learnIO/benchmarks/l2hmc-qcd/gauge_logs/2020_06_11/DEBUG_L16_b32_lf2_GaugeNetwork_aw00_qw01_dp025_f32_1909_1/checkpoints/checkpoint.tmp7576ea61e5fe46a9bb191a56d431ef4d',\n",
      " '/gpfs/mira-home/dhari/code/learnIO/benchmarks/l2hmc-qcd/gauge_logs/2020_06_11/DEBUG_L16_b32_lf2_GaugeNetwork_aw00_qw01_dp025_f32_1909_1/checkpoints/model.ckpt-15_temp_6770bba4db834b5a9ef640a844920dde/part-00000-of-00001.index.tempstate17637325061969226306',\n",
      " '/gpfs/mira-home/dhari/code/learnIO/benchmarks/l2hmc-qcd/gauge_logs/2020_06_11/DEBUG_L16_b32_lf2_GaugeNetwork_aw00_qw01_dp025_f32_1909_1/checkpoints/model.ckpt-45.meta.tmpa864c9ea5474456a934c108901f0e27f',\n",
      " '/gpfs/mira-home/dhari/code/learnIO/benchmarks/l2hmc-qcd/gauge_logs/2020_06_11/DEBUG_L16_b32_lf2_GaugeNetwork_aw00_qw01_dp025_f32_1909_1/checkpoints/model.ckpt-30_temp_6770bba4db834b5a9ef640a844920dde/part-00000-of-00001.data-00000-of-00001.tempstate5286267822303063113',\n",
      " '/gpfs/mira-home/dhari/code/learnIO/benchmarks/l2hmc-qcd/gauge_logs/2020_06_11/DEBUG_L16_b32_lf2_GaugeNetwork_aw00_qw01_dp025_f32_1909_1/checkpoints/model.ckpt-75_temp_6770bba4db834b5a9ef640a844920dde/part-00000-of-00001.data-00000-of-00001.tempstate302663950693300301',\n",
      " '/gpfs/mira-home/dhari/code/learnIO/benchmarks/l2hmc-qcd/gauge_logs/2020_06_11/DEBUG_L16_b32_lf2_GaugeNetwork_aw00_qw01_dp025_f32_1909_1/checkpoints/model.ckpt-0_temp_6770bba4db834b5a9ef640a844920dde/part-00000-of-00001.index.tempstate3719425310044319935',\n",
      " '/gpfs/mira-home/dhari/code/learnIO/benchmarks/l2hmc-qcd/gauge_logs/2020_06_11/DEBUG_L16_b32_lf2_GaugeNetwork_aw00_qw01_dp025_f32_1909_1/checkpoints/model.ckpt-75_temp_6770bba4db834b5a9ef640a844920dde/part-00000-of-00001.index.tempstate14757626047192857251',\n",
      " '/gpfs/mira-home/dhari/code/learnIO/benchmarks/l2hmc-qcd/gauge_logs/2020_06_11/DEBUG_L16_b32_lf2_GaugeNetwork_aw00_qw01_dp025_f32_1909_1/checkpoints/model.ckpt-75.meta.tmpa4f43dc21b8741d8942547be290a64fa',\n",
      " '/gpfs/mira-home/dhari/code/learnIO/benchmarks/l2hmc-qcd/gauge_logs/2020_06_11/DEBUG_L16_b32_lf2_GaugeNetwork_aw00_qw01_dp025_f32_1909_1/checkpoints/checkpoint.tmp4b670dddd44d44ca926bc17ba4b3184a',\n",
      " '/gpfs/mira-home/dhari/code/learnIO/benchmarks/l2hmc-qcd/gauge_logs/2020_06_11/DEBUG_L16_b32_lf2_GaugeNetwork_aw00_qw01_dp025_f32_1909_1/checkpoints/model.ckpt-0.meta.tmp0203df2e01a0441d993907608a87cf83',\n",
      " '/gpfs/mira-home/dhari/code/learnIO/benchmarks/l2hmc-qcd/gauge_logs/2020_06_11/DEBUG_L16_b32_lf2_GaugeNetwork_aw00_qw01_dp025_f32_1909_1/checkpoints/model.ckpt-30.index',\n",
      " '/gpfs/mira-home/dhari/code/learnIO/benchmarks/l2hmc-qcd/gauge_logs/2020_06_11/DEBUG_L16_b32_lf2_GaugeNetwork_aw00_qw01_dp025_f32_1909_1/checkpoints/checkpoint.tmp66636a1b285d4110877738817e9cb88a',\n",
      " '/gpfs/mira-home/dhari/code/learnIO/benchmarks/l2hmc-qcd/gauge_logs/2020_06_11/DEBUG_L16_b32_lf2_GaugeNetwork_aw00_qw01_dp025_f32_1909_1/checkpoints/events.out.tfevents.1591902661.nid00008',\n",
      " '/gpfs/mira-home/dhari/code/learnIO/benchmarks/l2hmc-qcd/gauge_logs/2020_06_11/DEBUG_L16_b32_lf2_GaugeNetwork_aw00_qw01_dp025_f32_1909_1/checkpoints/model.ckpt-0_temp_6770bba4db834b5a9ef640a844920dde/part-00000-of-00001.data-00000-of-00001.tempstate178319442380524411',\n",
      " '/gpfs/mira-home/dhari/code/learnIO/benchmarks/l2hmc-qcd/gauge_logs/2020_06_11/DEBUG_L16_b32_lf2_GaugeNetwork_aw00_qw01_dp025_f32_1909_1/checkpoints/model.ckpt-105_temp_6770bba4db834b5a9ef640a844920dde/part-00000-of-00001.data-00000-of-00001.tempstate12403677363233613037',\n",
      " '/gpfs/mira-home/dhari/code/learnIO/benchmarks/l2hmc-qcd/gauge_logs/2020_06_11/DEBUG_L16_b32_lf2_GaugeNetwork_aw00_qw01_dp025_f32_1909_1/checkpoints/model.ckpt-60_temp_6770bba4db834b5a9ef640a844920dde/part-00000-of-00001.index.tempstate9658202305539044460',\n",
      " '/gpfs/mira-home/dhari/code/learnIO/benchmarks/l2hmc-qcd/gauge_logs/2020_06_11/DEBUG_L16_b32_lf2_GaugeNetwork_aw00_qw01_dp025_f32_1909_1/checkpoints/model.ckpt-15.index',\n",
      " '/gpfs/mira-home/dhari/code/learnIO/benchmarks/l2hmc-qcd/gauge_logs/2020_06_11/DEBUG_L16_b32_lf2_GaugeNetwork_aw00_qw01_dp025_f32_1909_1/checkpoints/model.ckpt-60.meta.tmpc32bc8b599a848098cb58c16a9bface3',\n",
      " '/gpfs/mira-home/dhari/code/learnIO/benchmarks/l2hmc-qcd/gauge_logs/2020_06_11/DEBUG_L16_b32_lf2_GaugeNetwork_aw00_qw01_dp025_f32_1909_1/checkpoints/model.ckpt-30_temp_6770bba4db834b5a9ef640a844920dde/part-00000-of-00001.index.tempstate17681400027653203074',\n",
      " '/gpfs/mira-home/dhari/code/learnIO/benchmarks/l2hmc-qcd/gauge_logs/2020_06_11/DEBUG_L16_b32_lf2_GaugeNetwork_aw00_qw01_dp025_f32_1909_1/checkpoints/checkpoint.tmp4f4b52f1a744486b977244f799d76aa7',\n",
      " '/gpfs/mira-home/dhari/code/learnIO/benchmarks/l2hmc-qcd/gauge_logs/2020_06_11/DEBUG_L16_b32_lf2_GaugeNetwork_aw00_qw01_dp025_f32_1909_1/checkpoints/model.ckpt-105.meta.tmp2bb0439975384774a22ca41a0dfe5df7',\n",
      " '/gpfs/mira-home/dhari/code/learnIO/benchmarks/l2hmc-qcd/gauge_logs/2020_06_11/DEBUG_L16_b32_lf2_GaugeNetwork_aw00_qw01_dp025_f32_1909_1/checkpoints/model.ckpt-105.index',\n",
      " '/gpfs/mira-home/dhari/code/learnIO/benchmarks/l2hmc-qcd/gauge_logs/2020_06_11/DEBUG_L16_b32_lf2_GaugeNetwork_aw00_qw01_dp025_f32_1909_1/checkpoints/model.ckpt-30.meta.tmpddf884f9ddbf40a39f5915a9f2c6e262',\n",
      " '/gpfs/mira-home/dhari/code/learnIO/benchmarks/l2hmc-qcd/gauge_logs/2020_06_11/DEBUG_L16_b32_lf2_GaugeNetwork_aw00_qw01_dp025_f32_1909_1/checkpoints/model.ckpt-60.index',\n",
      " '/gpfs/mira-home/dhari/code/learnIO/benchmarks/l2hmc-qcd/gauge_logs/2020_06_11/DEBUG_L16_b32_lf2_GaugeNetwork_aw00_qw01_dp025_f32_1909_1/checkpoints/model.ckpt-60_temp_6770bba4db834b5a9ef640a844920dde/part-00000-of-00001.data-00000-of-00001.tempstate5439394137918407120',\n",
      " '/gpfs/mira-home/dhari/code/learnIO/benchmarks/l2hmc-qcd/gauge_logs/2020_06_11/DEBUG_L16_b32_lf2_GaugeNetwork_aw00_qw01_dp025_f32_1909_1/checkpoints/model.ckpt-15.meta.tmp744e2dc3e68f47ea831e3528dd0cf5f7',\n",
      " '/gpfs/mira-home/dhari/code/learnIO/benchmarks/l2hmc-qcd/gauge_logs/2020_06_11/DEBUG_L16_b32_lf2_GaugeNetwork_aw00_qw01_dp025_f32_1909_1/checkpoints/model.ckpt-90_temp_6770bba4db834b5a9ef640a844920dde/part-00000-of-00001.data-00000-of-00001.tempstate9254592585878756557',\n",
      " '/gpfs/mira-home/dhari/code/learnIO/benchmarks/l2hmc-qcd/gauge_logs/2020_06_11/DEBUG_L16_b32_lf2_GaugeNetwork_aw00_qw01_dp025_f32_1909_1/checkpoints/model.ckpt-45_temp_6770bba4db834b5a9ef640a844920dde/part-00000-of-00001.index.tempstate16361452837582772528',\n",
      " '<STDERR>']\n"
     ]
    }
   ],
   "source": [
    "df_normal = profile.GetTraceAsDF()\n",
    "pp.pprint(\"Files used in the application\")\n",
    "pp.pprint(df_normal['Filename'].unique().tolist())"
   ]
  },
  {
   "cell_type": "markdown",
   "metadata": {},
   "source": [
    "### Collect the summary of the Application"
   ]
  },
  {
   "cell_type": "code",
   "execution_count": 11,
   "metadata": {},
   "outputs": [
    {
     "name": "stdout",
     "output_type": "stream",
     "text": [
      "\n",
      "\n",
      "\u001b[1mData Access Summary (from Darshan):\u001b[0m\n",
      "Total Job time\t\t\t:\t385.00 seconds\n",
      "Time spent in I/O\t\t:\t4.14 seconds\n",
      "% Time spent in I/O\t\t:\t1.08%\n",
      "Total Data Accessed\t\t:\t0.34 GB\n",
      "Data Access Modules used\t:\t['STDIO']\n",
      "Data Operations\t\t\t:\t['write']\n",
      "# of files used\t\t\t:\t43\n",
      "# of MPI Ranks\t\t\t:\t8 ranks\n",
      "\u001b[4mAccess Pattern:\u001b[0m\n",
      "\tSequential\t\t:\tnan%\n",
      "\tConsecutive\t\t:\tnan%\n",
      "\n",
      "\n",
      "\u001b[1mFiles Summary:\u001b[0m\n",
      "File Types\t\t\t:\t[]\n",
      "\u001b[4mDataset Size:\u001b[0m\n",
      "\tTotal\t\t\t:\t0.000 GB\n",
      "\tMin,Max\t\t\t:\t0.000 GB and 0.000 GB\n",
      "\tAverage\t\t\t:\t0.000 GB\n"
     ]
    }
   ],
   "source": [
    "summary = profile.GetSummary()\n",
    "print(\"\\n\")\n",
    "print(color.BOLD + \"Data Access Summary (from Darshan):\"+ color.END)\n",
    "print(\"Total Job time\\t\\t\\t:\\t{:0.2f} seconds\".format(summary['job_time']))\n",
    "#FIXME: calculate time per rank and then take max across it.\n",
    "print(\"Time spent in I/O\\t\\t:\\t{:0.2f} seconds\".format(summary['total_io_time']))\n",
    "print(\"% Time spent in I/O\\t\\t:\\t{:0.2f}%\".format(float(summary['total_io_time'])*100/summary['job_time']))\n",
    "print(\"Total Data Accessed\\t\\t:\\t{:0.2f} GB\".format(float(summary['total_io_bytes'])/1024.0/1024.0/1024.0))\n",
    "print(\"Data Access Modules used\\t:\\t{}\".format(summary['io_interface_used']))\n",
    "print(\"Data Operations\\t\\t\\t:\\t{}\".format(summary['io_operations_used']))\n",
    "print(\"# of files used\\t\\t\\t:\\t{}\".format(len(summary['files_used'])))\n",
    "print(\"# of MPI Ranks\\t\\t\\t:\\t{:0.0f} ranks\".format(8))\n",
    "      \n",
    "     \n",
    "print(color.UNDERLINE + \"Access Pattern:\"+ color.END)\n",
    "print(\"\\tSequential\\t\\t:\\t{:0.2f}%\".format(float(summary['access_pattern']['sequential'])))\n",
    "print(\"\\tConsecutive\\t\\t:\\t{:0.2f}%\".format(float(summary['access_pattern']['consecutive'])))\n",
    "#An I/O op issued at an offset greater than where the previous I/O op ended.\n",
    "#An I/O op issued at the offset immediately after the end of the previous I/O\n",
    "\n",
    "print(\"\\n\")\n",
    "print(color.BOLD + \"Files Summary:\"+ color.END)\n",
    "print(\"File Types\\t\\t\\t:\\t{}\".format(summary['file_used_summary']['types']))\n",
    "print(color.UNDERLINE + \"Dataset Size:\"+ color.END)\n",
    "print(\"\\tTotal\\t\\t\\t:\\t{:0.3f} GB\".format(float(summary['file_used_summary']['size']['total'])/1024.0/1024.0/1024.0))\n",
    "print(\"\\tMin,Max\\t\\t\\t:\\t{:0.3f} GB and {:0.3f} GB\".format(float(summary['file_used_summary']['size']['min'])/1024.0/1024.0/1024.0,float(summary['file_used_summary']['size']['max'])/1024.0/1024.0/1024.0))\n",
    "print(\"\\tAverage\\t\\t\\t:\\t{:0.3f} GB\".format(float(summary['file_used_summary']['size']['mean'])/1024.0/1024.0/1024.0))"
   ]
  },
  {
   "cell_type": "code",
   "execution_count": 12,
   "metadata": {},
   "outputs": [
    {
     "name": "stdout",
     "output_type": "stream",
     "text": [
      "'Job time : 385.0 seconds'\n"
     ]
    }
   ],
   "source": [
    "pp.pprint(\"Job time : {} seconds\".format(profile.GetJobTime()))"
   ]
  },
  {
   "cell_type": "code",
   "execution_count": 13,
   "metadata": {},
   "outputs": [
    {
     "name": "stdout",
     "output_type": "stream",
     "text": [
      "'Time spent by application on I/O: 4.140188 seconds'\n"
     ]
    }
   ],
   "source": [
    "pp.pprint(\"Time spent by application on I/O: {} seconds\".format(profile.GetIOTime()))"
   ]
  },
  {
   "cell_type": "markdown",
   "metadata": {},
   "source": [
    "### I/O time spent on each file"
   ]
  },
  {
   "cell_type": "code",
   "execution_count": 25,
   "metadata": {},
   "outputs": [
    {
     "name": "stdout",
     "output_type": "stream",
     "text": [
      "I/O time for file checkpoint: 0.02 seconds\n",
      "I/O time for file graph.pbtxt: 0.15 seconds\n",
      "I/O time for file part-00000-of-00001.data-00000-of-00001: 0.28 seconds\n",
      "I/O time for file model.ckpt-75: 0.02 seconds\n",
      "I/O time for file checkpoint: 0.03 seconds\n",
      "I/O time for file checkpoint: 0.03 seconds\n",
      "I/O time for file model.ckpt-0: 0.02 seconds\n",
      "I/O time for file part-00000-of-00001.data-00000-of-00001: 0.29 seconds\n",
      "I/O time for file model.ckpt-90: 0.02 seconds\n",
      "I/O time for file model.ckpt-45: 0.02 seconds\n",
      "I/O time for file part-00000-of-00001.index: 0.02 seconds\n",
      "I/O time for file part-00000-of-00001.index: 0.02 seconds\n",
      "I/O time for file model.ckpt-90.meta: 0.16 seconds\n",
      "I/O time for file checkpoint: 0.02 seconds\n",
      "I/O time for file checkpoint: 0.02 seconds\n",
      "I/O time for file part-00000-of-00001.index: 0.02 seconds\n",
      "I/O time for file model.ckpt-45.meta: 0.12 seconds\n",
      "I/O time for file part-00000-of-00001.data-00000-of-00001: 0.26 seconds\n",
      "I/O time for file part-00000-of-00001.data-00000-of-00001: 0.32 seconds\n",
      "I/O time for file part-00000-of-00001.index: 0.03 seconds\n",
      "I/O time for file part-00000-of-00001.index: 0.02 seconds\n",
      "I/O time for file model.ckpt-75.meta: 0.09 seconds\n",
      "I/O time for file checkpoint: 0.02 seconds\n",
      "I/O time for file model.ckpt-0.meta: 0.08 seconds\n",
      "I/O time for file model.ckpt-30: 0.02 seconds\n",
      "I/O time for file checkpoint: 0.02 seconds\n",
      "I/O time for file events.out.tfevents.1591902661: 0.13 seconds\n",
      "I/O time for file part-00000-of-00001.data-00000-of-00001: 0.36 seconds\n",
      "I/O time for file part-00000-of-00001.data-00000-of-00001: 0.27 seconds\n",
      "I/O time for file part-00000-of-00001.index: 0.02 seconds\n",
      "I/O time for file model.ckpt-15: 0.02 seconds\n",
      "I/O time for file model.ckpt-60.meta: 0.12 seconds\n",
      "I/O time for file part-00000-of-00001.index: 0.02 seconds\n",
      "I/O time for file checkpoint: 0.03 seconds\n",
      "I/O time for file model.ckpt-105.meta: 0.13 seconds\n",
      "I/O time for file model.ckpt-105: 0.02 seconds\n",
      "I/O time for file model.ckpt-30.meta: 0.17 seconds\n",
      "I/O time for file model.ckpt-60: 0.03 seconds\n",
      "I/O time for file part-00000-of-00001.data-00000-of-00001: 0.27 seconds\n",
      "I/O time for file model.ckpt-15.meta: 0.12 seconds\n",
      "I/O time for file part-00000-of-00001.data-00000-of-00001: 0.27 seconds\n",
      "I/O time for file part-00000-of-00001.index: 0.02 seconds\n",
      "I/O time for file <STDERR>: 0.03 seconds\n"
     ]
    }
   ],
   "source": [
    "for file in df_normal['Filename'].unique():\n",
    "    filename = os.path.splitext(ntpath.basename(file))[0]\n",
    "    print(\"I/O time for file {}: {:0.2f} seconds\".format(filename,profile.GetIOTime(filepath=file)))"
   ]
  },
  {
   "cell_type": "markdown",
   "metadata": {},
   "source": [
    "### I/O Time spent per rank"
   ]
  },
  {
   "cell_type": "code",
   "execution_count": 15,
   "metadata": {},
   "outputs": [],
   "source": [
    "for rank in df['Rank'].unique():\n",
    "    print(\"I/O time for rank {}: {:0.2f} seconds\".format(rank,profile.GetIOTime(rank=rank)))"
   ]
  },
  {
   "cell_type": "code",
   "execution_count": 16,
   "metadata": {},
   "outputs": [
    {
     "data": {
      "text/plain": [
       "'Total I/O performed by application: 0.34 GB'"
      ]
     },
     "execution_count": 16,
     "metadata": {},
     "output_type": "execute_result"
    }
   ],
   "source": [
    "\"Total I/O performed by application: {:0.2f} GB\".format(float(profile.GetIOSize())/1024.0/1024.0/1024.0)"
   ]
  },
  {
   "cell_type": "markdown",
   "metadata": {},
   "source": [
    "### I/O performed on each file"
   ]
  },
  {
   "cell_type": "code",
   "execution_count": 27,
   "metadata": {},
   "outputs": [
    {
     "name": "stdout",
     "output_type": "stream",
     "text": [
      "I/O performed on file checkpoint: 1.12 KB\n",
      "I/O performed on file graph.pbtxt: 7407.53 KB\n",
      "I/O performed on file part-00000-of-00001.data-00000-of-00001: 35436.03 KB\n",
      "I/O performed on file model.ckpt-75: 4.72 KB\n",
      "I/O performed on file checkpoint: 0.93 KB\n",
      "I/O performed on file checkpoint: 1.12 KB\n",
      "I/O performed on file model.ckpt-0: 4.72 KB\n",
      "I/O performed on file part-00000-of-00001.data-00000-of-00001: 35436.03 KB\n",
      "I/O performed on file model.ckpt-90: 4.72 KB\n",
      "I/O performed on file model.ckpt-45: 4.72 KB\n",
      "I/O performed on file part-00000-of-00001.index: 4.72 KB\n",
      "I/O performed on file part-00000-of-00001.index: 4.72 KB\n",
      "I/O performed on file model.ckpt-90.meta: 5321.34 KB\n",
      "I/O performed on file checkpoint: 0.74 KB\n",
      "I/O performed on file checkpoint: 0.37 KB\n",
      "I/O performed on file part-00000-of-00001.index: 4.72 KB\n",
      "I/O performed on file model.ckpt-45.meta: 5321.34 KB\n",
      "I/O performed on file part-00000-of-00001.data-00000-of-00001: 35436.03 KB\n",
      "I/O performed on file part-00000-of-00001.data-00000-of-00001: 35436.03 KB\n",
      "I/O performed on file part-00000-of-00001.index: 4.72 KB\n",
      "I/O performed on file part-00000-of-00001.index: 4.72 KB\n",
      "I/O performed on file model.ckpt-75.meta: 5321.34 KB\n",
      "I/O performed on file checkpoint: 1.12 KB\n",
      "I/O performed on file model.ckpt-0.meta: 5321.34 KB\n",
      "I/O performed on file model.ckpt-30: 4.72 KB\n",
      "I/O performed on file checkpoint: 0.56 KB\n",
      "I/O performed on file events.out.tfevents.1591902661: 19126.65 KB\n",
      "I/O performed on file part-00000-of-00001.data-00000-of-00001: 35436.03 KB\n",
      "I/O performed on file part-00000-of-00001.data-00000-of-00001: 35436.03 KB\n",
      "I/O performed on file part-00000-of-00001.index: 4.72 KB\n",
      "I/O performed on file model.ckpt-15: 4.72 KB\n",
      "I/O performed on file model.ckpt-60.meta: 5321.34 KB\n",
      "I/O performed on file part-00000-of-00001.index: 4.72 KB\n",
      "I/O performed on file checkpoint: 1.12 KB\n",
      "I/O performed on file model.ckpt-105.meta: 5321.34 KB\n",
      "I/O performed on file model.ckpt-105: 4.72 KB\n",
      "I/O performed on file model.ckpt-30.meta: 5321.34 KB\n",
      "I/O performed on file model.ckpt-60: 4.72 KB\n",
      "I/O performed on file part-00000-of-00001.data-00000-of-00001: 35436.03 KB\n",
      "I/O performed on file model.ckpt-15.meta: 5321.34 KB\n",
      "I/O performed on file part-00000-of-00001.data-00000-of-00001: 35436.03 KB\n",
      "I/O performed on file part-00000-of-00001.index: 4.72 KB\n",
      "I/O performed on file <STDERR>: 33.02 KB\n"
     ]
    }
   ],
   "source": [
    "for file in df_normal['Filename'].unique():\n",
    "    filename = os.path.splitext(ntpath.basename(file))[0]\n",
    "    print(\"I/O performed on file {}: {:0.2f} KB\".format(filename,float(profile.GetIOSize(filepath=file))/1024.0))"
   ]
  }
 ],
 "metadata": {
  "kernelspec": {
   "display_name": "Python 3",
   "language": "python",
   "name": "python3"
  },
  "language_info": {
   "codemirror_mode": {
    "name": "ipython",
    "version": 3
   },
   "file_extension": ".py",
   "mimetype": "text/x-python",
   "name": "python",
   "nbconvert_exporter": "python",
   "pygments_lexer": "ipython3",
   "version": "3.7.4"
  }
 },
 "nbformat": 4,
 "nbformat_minor": 2
}
